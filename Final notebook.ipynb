{
  "cells": [
    {
      "cell_type": "markdown",
      "metadata": {
        "application/vnd.databricks.v1+cell": {
          "cellMetadata": {
            "byteLimit": 2048000,
            "rowLimit": 10000
          },
          "inputWidgets": {},
          "nuid": "f0e4a496-8adf-4439-86dc-53689287a27f",
          "showTitle": false,
          "title": ""
        },
        "id": "d8M1wFudJR5H"
      },
      "source": [
        "# Titanic Analysis\n",
        "BABD - Cloud & Cognitive Services Project\n",
        "\n",
        "Made by Jacopo Bulgarelli, Sara Canu, Gianmarco Fistani & Jade Meneghini."
      ]
    },
    {
      "cell_type": "markdown",
      "metadata": {
        "application/vnd.databricks.v1+cell": {
          "cellMetadata": {
            "byteLimit": 2048000,
            "rowLimit": 10000
          },
          "inputWidgets": {},
          "nuid": "a57a3691-80fa-4480-aaa9-32fa78e35010",
          "showTitle": false,
          "title": ""
        },
        "id": "cloJnOk1JR5J"
      },
      "source": [
        "## Task\n",
        "Create a model that predicts which passengers survived the Titanic shipwreck <br>\n",
        "Steps:\n",
        "- Conduct Exploratory Data Analysis to gain insights into the dataset.\n",
        "- Clean the data by addressing missing or incorrect values.\n",
        "- Consider at classification algorithms and perform hyperparameter tuning for each algorithm.\n",
        "- Compare the performance of the best models.\n",
        "- Predict survivial of the passenger based on the best model."
      ]
    },
    {
      "cell_type": "markdown",
      "metadata": {
        "application/vnd.databricks.v1+cell": {
          "cellMetadata": {
            "byteLimit": 2048000,
            "rowLimit": 10000
          },
          "inputWidgets": {},
          "nuid": "b854f052-e207-49d6-8cba-660ddf34ac17",
          "showTitle": false,
          "title": ""
        },
        "id": "XKFNQz3UJR5J"
      },
      "source": [
        "## Colab Env\n"
      ]
    },
    {
      "cell_type": "code",
      "source": [
        "from google.colab import drive\n",
        "drive.mount('/gdrive')\n",
        "%cd /gdrive/MyDrive/CCS\n",
        "#%cd /gdrive/MyDrive/BABD/CCS"
      ],
      "metadata": {
        "id": "l9-crCbGvFD5",
        "colab": {
          "base_uri": "https://localhost:8080/"
        },
        "outputId": "d2c796dc-52eb-4564-9aed-682f949591dd"
      },
      "execution_count": null,
      "outputs": [
        {
          "output_type": "stream",
          "name": "stdout",
          "text": [
            "Mounted at /gdrive\n",
            "/gdrive/MyDrive/BABD/CCS\n"
          ]
        }
      ]
    },
    {
      "cell_type": "code",
      "execution_count": null,
      "metadata": {
        "application/vnd.databricks.v1+cell": {
          "cellMetadata": {
            "byteLimit": 2048000,
            "rowLimit": 10000
          },
          "inputWidgets": {},
          "nuid": "a62a954c-39d8-4b7c-86c6-9f23551bbd1d",
          "showTitle": false,
          "title": ""
        },
        "id": "vW_1Y2YbJR5J",
        "outputId": "26795dc5-2ca0-4708-c2a8-3d38021cf307",
        "colab": {
          "base_uri": "https://localhost:8080/",
          "height": 847
        }
      },
      "outputs": [
        {
          "output_type": "stream",
          "name": "stdout",
          "text": [
            "\u001b[33m\r0% [Working]\u001b[0m\r            \rGet:1 https://cloud.r-project.org/bin/linux/ubuntu jammy-cran40/ InRelease [3,626 B]\n",
            "Get:2 https://developer.download.nvidia.com/compute/cuda/repos/ubuntu2204/x86_64  InRelease [1,581 B]\n",
            "Hit:3 http://archive.ubuntu.com/ubuntu jammy InRelease\n",
            "Get:4 http://security.ubuntu.com/ubuntu jammy-security InRelease [110 kB]\n",
            "Get:5 http://archive.ubuntu.com/ubuntu jammy-updates InRelease [119 kB]\n",
            "Get:6 https://developer.download.nvidia.com/compute/cuda/repos/ubuntu2204/x86_64  Packages [830 kB]\n",
            "Hit:7 http://archive.ubuntu.com/ubuntu jammy-backports InRelease\n",
            "Hit:8 https://ppa.launchpadcontent.net/c2d4u.team/c2d4u4.0+/ubuntu jammy InRelease\n",
            "Hit:9 https://ppa.launchpadcontent.net/deadsnakes/ppa/ubuntu jammy InRelease\n",
            "Get:10 http://archive.ubuntu.com/ubuntu jammy-updates/main amd64 Packages [2,037 kB]\n",
            "Hit:11 https://ppa.launchpadcontent.net/graphics-drivers/ppa/ubuntu jammy InRelease\n",
            "Hit:12 https://ppa.launchpadcontent.net/ubuntugis/ppa/ubuntu jammy InRelease\n",
            "Get:13 http://archive.ubuntu.com/ubuntu jammy-updates/universe amd64 Packages [1,371 kB]\n",
            "Get:14 http://security.ubuntu.com/ubuntu jammy-security/main amd64 Packages [1,756 kB]\n",
            "Get:15 http://security.ubuntu.com/ubuntu jammy-security/universe amd64 Packages [1,077 kB]\n",
            "Fetched 7,306 kB in 2s (3,360 kB/s)\n",
            "Reading package lists... Done\n",
            "Building dependency tree... Done\n",
            "Reading state information... Done\n",
            "46 packages can be upgraded. Run 'apt list --upgradable' to see them.\n",
            "tar: spark-3.2.1-bin-hadoop3.2.tgz: Cannot open: No such file or directory\n",
            "tar: Error is not recoverable: exiting now\n",
            "Collecting pyspark\n",
            "  Downloading pyspark-3.5.1.tar.gz (317.0 MB)\n",
            "\u001b[2K     \u001b[90m━━━━━━━━━━━━━━━━━━━━━━━━━━━━━━━━━━━━━━━━\u001b[0m \u001b[32m317.0/317.0 MB\u001b[0m \u001b[31m1.3 MB/s\u001b[0m eta \u001b[36m0:00:00\u001b[0m\n",
            "\u001b[?25h  Preparing metadata (setup.py) ... \u001b[?25l\u001b[?25hdone\n",
            "Requirement already satisfied: py4j==0.10.9.7 in /usr/local/lib/python3.10/dist-packages (from pyspark) (0.10.9.7)\n",
            "Building wheels for collected packages: pyspark\n",
            "  Building wheel for pyspark (setup.py) ... \u001b[?25l\u001b[?25hdone\n",
            "  Created wheel for pyspark: filename=pyspark-3.5.1-py2.py3-none-any.whl size=317488491 sha256=c2ad87bb08107a09a44eff08cd05d4a73eb0bf521733499e18c25a09455e38c0\n",
            "  Stored in directory: /root/.cache/pip/wheels/80/1d/60/2c256ed38dddce2fdd93be545214a63e02fbd8d74fb0b7f3a6\n",
            "Successfully built pyspark\n",
            "Installing collected packages: pyspark\n",
            "Successfully installed pyspark-3.5.1\n",
            "Requirement already satisfied: py4j in /usr/local/lib/python3.10/dist-packages (0.10.9.7)\n"
          ]
        },
        {
          "output_type": "execute_result",
          "data": {
            "text/plain": [
              "<pyspark.sql.session.SparkSession at 0x78bffbf37850>"
            ],
            "text/html": [
              "\n",
              "            <div>\n",
              "                <p><b>SparkSession - in-memory</b></p>\n",
              "                \n",
              "        <div>\n",
              "            <p><b>SparkContext</b></p>\n",
              "\n",
              "            <p><a href=\"http://f3e850694f1c:4040\">Spark UI</a></p>\n",
              "\n",
              "            <dl>\n",
              "              <dt>Version</dt>\n",
              "                <dd><code>v3.5.1</code></dd>\n",
              "              <dt>Master</dt>\n",
              "                <dd><code>local[*]</code></dd>\n",
              "              <dt>AppName</dt>\n",
              "                <dd><code>Our First Spark Example</code></dd>\n",
              "            </dl>\n",
              "        </div>\n",
              "        \n",
              "            </div>\n",
              "        "
            ]
          },
          "metadata": {},
          "execution_count": 2
        }
      ],
      "source": [
        "!sudo apt update\n",
        "!apt-get install openjdk-8-jdk-headless -qq > /dev/null\n",
        "#Check this site for the latest download link https://www.apache.org/dyn/closer.lua/spark/spark-3.2.1/spark-3.2.1-bin-hadoop3.2.tgz\n",
        "!wget -q https://dlcdn.apache.org/spark/spark-3.2.1/spark-3.2.1-bin-hadoop3.2.tgz\n",
        "!tar xf spark-3.2.1-bin-hadoop3.2.tgz\n",
        "!pip install -q findspark\n",
        "!pip install pyspark\n",
        "!pip install py4j\n",
        "\n",
        "import os\n",
        "import sys\n",
        "# os.environ[\"JAVA_HOME\"] = \"/usr/lib/jvm/java-8-openjdk-amd64\"\n",
        "# os.environ[\"SPARK_HOME\"] = \"/content/spark-3.2.1-bin-hadoop3.2\"\n",
        "\n",
        "\n",
        "import findspark\n",
        "findspark.init()\n",
        "findspark.find()\n",
        "\n",
        "import pyspark\n",
        "\n",
        "from pyspark.sql import DataFrame, SparkSession\n",
        "from typing import List\n",
        "import pyspark.sql.types as T\n",
        "import pyspark.sql.functions as F\n",
        "\n",
        "spark= SparkSession \\\n",
        "       .builder \\\n",
        "       .appName(\"Our First Spark Example\") \\\n",
        "       .getOrCreate()\n",
        "\n",
        "spark"
      ]
    },
    {
      "cell_type": "code",
      "source": [
        "spark"
      ],
      "metadata": {
        "colab": {
          "base_uri": "https://localhost:8080/",
          "height": 219
        },
        "id": "ShFEy7QoBu6M",
        "outputId": "51030031-04e5-4b7a-c0d2-9abf9f2c515d"
      },
      "execution_count": null,
      "outputs": [
        {
          "output_type": "execute_result",
          "data": {
            "text/plain": [
              "<pyspark.sql.session.SparkSession at 0x78bffbf37850>"
            ],
            "text/html": [
              "\n",
              "            <div>\n",
              "                <p><b>SparkSession - in-memory</b></p>\n",
              "                \n",
              "        <div>\n",
              "            <p><b>SparkContext</b></p>\n",
              "\n",
              "            <p><a href=\"http://f3e850694f1c:4040\">Spark UI</a></p>\n",
              "\n",
              "            <dl>\n",
              "              <dt>Version</dt>\n",
              "                <dd><code>v3.5.1</code></dd>\n",
              "              <dt>Master</dt>\n",
              "                <dd><code>local[*]</code></dd>\n",
              "              <dt>AppName</dt>\n",
              "                <dd><code>Our First Spark Example</code></dd>\n",
              "            </dl>\n",
              "        </div>\n",
              "        \n",
              "            </div>\n",
              "        "
            ]
          },
          "metadata": {},
          "execution_count": 3
        }
      ]
    },
    {
      "cell_type": "markdown",
      "metadata": {
        "application/vnd.databricks.v1+cell": {
          "cellMetadata": {
            "byteLimit": 2048000,
            "rowLimit": 10000
          },
          "inputWidgets": {},
          "nuid": "d1885360-4bac-4d15-93c8-9e738e8c11b0",
          "showTitle": false,
          "title": ""
        },
        "id": "YS114rF1JR5K"
      },
      "source": [
        "## Import libraries"
      ]
    },
    {
      "cell_type": "code",
      "execution_count": null,
      "metadata": {
        "application/vnd.databricks.v1+cell": {
          "cellMetadata": {
            "byteLimit": 2048000,
            "rowLimit": 10000
          },
          "inputWidgets": {},
          "nuid": "5465791d-b317-4cc6-880c-849a531cf1c6",
          "showTitle": false,
          "title": ""
        },
        "vscode": {
          "languageId": "plaintext"
        },
        "id": "e3eigH_3JR5K"
      },
      "outputs": [],
      "source": [
        "from pyspark.sql.functions import col, isnan, when, count, desc, udf, regexp_extract, expr, sum as spark_sum\n",
        "from pyspark.sql.types import IntegerType, DoubleType\n",
        "from pyspark.sql import functions as F\n",
        "import matplotlib.pyplot as plt\n",
        "import seaborn as sns\n",
        "import pandas as pd\n",
        "import numpy as np\n",
        "import sklearn\n",
        "import pyspark"
      ]
    },
    {
      "cell_type": "markdown",
      "metadata": {
        "application/vnd.databricks.v1+cell": {
          "cellMetadata": {
            "byteLimit": 2048000,
            "rowLimit": 10000
          },
          "inputWidgets": {},
          "nuid": "530e090d-1aae-4538-bed2-3d37d9577d6b",
          "showTitle": false,
          "title": ""
        },
        "id": "gMuHAM79JR5K"
      },
      "source": [
        "## Import data\n",
        "\n",
        "Data from the 'train.csv' in the [Titanic - Machine Learning from Disaster](https://www.kaggle.com/c/titanic/overview) Kaggle competition."
      ]
    },
    {
      "cell_type": "code",
      "source": [
        "!git clone https://github.com/jademene/Cloud-Cognitive-Services.git\n",
        "\n",
        "df = spark.read.csv('Cloud-Cognitive-Services/train.csv', header = True)"
      ],
      "metadata": {
        "colab": {
          "base_uri": "https://localhost:8080/"
        },
        "id": "OeXtMfMvuDxF",
        "outputId": "dc924964-ca9c-4ad9-fce5-855bd75f12fb"
      },
      "execution_count": null,
      "outputs": [
        {
          "output_type": "stream",
          "name": "stdout",
          "text": [
            "fatal: destination path 'Cloud-Cognitive-Services' already exists and is not an empty directory.\n"
          ]
        }
      ]
    },
    {
      "cell_type": "code",
      "execution_count": null,
      "metadata": {
        "application/vnd.databricks.v1+cell": {
          "cellMetadata": {
            "byteLimit": 2048000,
            "rowLimit": 10000
          },
          "inputWidgets": {},
          "nuid": "f4c94487-0a07-4fe4-872a-19ea66b20f42",
          "showTitle": false,
          "title": ""
        },
        "id": "81RSHxlZJR5K",
        "colab": {
          "base_uri": "https://localhost:8080/"
        },
        "outputId": "37b14e5d-19b1-41be-a8de-bea1098accbd"
      },
      "outputs": [
        {
          "output_type": "execute_result",
          "data": {
            "text/plain": [
              "DataFrame[PassengerId: string, Survived: string, Pclass: string, Name: string, Sex: string, Age: string, SibSp: string, Parch: string, Ticket: string, Fare: string, Cabin: string, Embarked: string]"
            ]
          },
          "metadata": {},
          "execution_count": 74
        }
      ],
      "source": [
        "#df = spark.read.csv('titanic-train.csv', header = True)\n",
        "df = spark.read.csv('train.csv', header = True)\n",
        "df.cache() #makes its read faster"
      ]
    },
    {
      "cell_type": "code",
      "execution_count": null,
      "metadata": {
        "application/vnd.databricks.v1+cell": {
          "cellMetadata": {
            "byteLimit": 2048000,
            "rowLimit": 10000
          },
          "inputWidgets": {},
          "nuid": "2248133e-e488-4801-b670-cecbc3834032",
          "showTitle": false,
          "title": ""
        },
        "id": "oIuEM3LfJR5K",
        "outputId": "4b7f66b2-618b-4a67-afe5-678231e21cd1",
        "colab": {
          "base_uri": "https://localhost:8080/"
        }
      },
      "outputs": [
        {
          "output_type": "stream",
          "name": "stdout",
          "text": [
            "+-----------+--------+------+--------------------+------+----+-----+-----+----------------+-------+-----+--------+\n",
            "|PassengerId|Survived|Pclass|                Name|   Sex| Age|SibSp|Parch|          Ticket|   Fare|Cabin|Embarked|\n",
            "+-----------+--------+------+--------------------+------+----+-----+-----+----------------+-------+-----+--------+\n",
            "|          1|       0|     3|Braund, Mr. Owen ...|  male|  22|    1|    0|       A/5 21171|   7.25| NULL|       S|\n",
            "|          2|       1|     1|Cumings, Mrs. Joh...|female|  38|    1|    0|        PC 17599|71.2833|  C85|       C|\n",
            "|          3|       1|     3|Heikkinen, Miss. ...|female|  26|    0|    0|STON/O2. 3101282|  7.925| NULL|       S|\n",
            "|          4|       1|     1|Futrelle, Mrs. Ja...|female|  35|    1|    0|          113803|   53.1| C123|       S|\n",
            "|          5|       0|     3|Allen, Mr. Willia...|  male|  35|    0|    0|          373450|   8.05| NULL|       S|\n",
            "|          6|       0|     3|    Moran, Mr. James|  male|NULL|    0|    0|          330877| 8.4583| NULL|       Q|\n",
            "|          7|       0|     1|McCarthy, Mr. Tim...|  male|  54|    0|    0|           17463|51.8625|  E46|       S|\n",
            "|          8|       0|     3|Palsson, Master. ...|  male|   2|    3|    1|          349909| 21.075| NULL|       S|\n",
            "|          9|       1|     3|Johnson, Mrs. Osc...|female|  27|    0|    2|          347742|11.1333| NULL|       S|\n",
            "|         10|       1|     2|Nasser, Mrs. Nich...|female|  14|    1|    0|          237736|30.0708| NULL|       C|\n",
            "|         11|       1|     3|Sandstrom, Miss. ...|female|   4|    1|    1|         PP 9549|   16.7|   G6|       S|\n",
            "|         12|       1|     1|Bonnell, Miss. El...|female|  58|    0|    0|          113783|  26.55| C103|       S|\n",
            "|         13|       0|     3|Saundercock, Mr. ...|  male|  20|    0|    0|       A/5. 2151|   8.05| NULL|       S|\n",
            "|         14|       0|     3|Andersson, Mr. An...|  male|  39|    1|    5|          347082| 31.275| NULL|       S|\n",
            "|         15|       0|     3|Vestrom, Miss. Hu...|female|  14|    0|    0|          350406| 7.8542| NULL|       S|\n",
            "|         16|       1|     2|Hewlett, Mrs. (Ma...|female|  55|    0|    0|          248706|     16| NULL|       S|\n",
            "|         17|       0|     3|Rice, Master. Eugene|  male|   2|    4|    1|          382652| 29.125| NULL|       Q|\n",
            "|         18|       1|     2|Williams, Mr. Cha...|  male|NULL|    0|    0|          244373|     13| NULL|       S|\n",
            "|         19|       0|     3|Vander Planke, Mr...|female|  31|    1|    0|          345763|     18| NULL|       S|\n",
            "|         20|       1|     3|Masselmani, Mrs. ...|female|NULL|    0|    0|            2649|  7.225| NULL|       C|\n",
            "+-----------+--------+------+--------------------+------+----+-----+-----+----------------+-------+-----+--------+\n",
            "only showing top 20 rows\n",
            "\n"
          ]
        }
      ],
      "source": [
        "df.show(20)"
      ]
    },
    {
      "cell_type": "markdown",
      "metadata": {
        "application/vnd.databricks.v1+cell": {
          "cellMetadata": {
            "byteLimit": 2048000,
            "rowLimit": 10000
          },
          "inputWidgets": {},
          "nuid": "3108d40b-1447-4555-a25d-eb0f12d83fe4",
          "showTitle": false,
          "title": ""
        },
        "id": "awqKDIumJR5K"
      },
      "source": [
        "## 1) EDA"
      ]
    },
    {
      "cell_type": "markdown",
      "metadata": {
        "application/vnd.databricks.v1+cell": {
          "cellMetadata": {
            "byteLimit": 2048000,
            "rowLimit": 10000
          },
          "inputWidgets": {},
          "nuid": "b4da6d63-ab30-4704-8b82-51527baa19b9",
          "showTitle": false,
          "title": ""
        },
        "id": "NYxKJxdVJR5K"
      },
      "source": [
        "### 1.1) Data overview"
      ]
    },
    {
      "cell_type": "code",
      "execution_count": null,
      "metadata": {
        "application/vnd.databricks.v1+cell": {
          "cellMetadata": {
            "byteLimit": 2048000,
            "rowLimit": 10000
          },
          "inputWidgets": {},
          "nuid": "b41765f6-be54-4aaf-9b47-b882bbb19899",
          "showTitle": false,
          "title": ""
        },
        "id": "Eu2dqNvuJR5K",
        "colab": {
          "base_uri": "https://localhost:8080/"
        },
        "outputId": "dcaf2007-643a-4371-8e2f-e742a8f4e483"
      },
      "outputs": [
        {
          "output_type": "stream",
          "name": "stdout",
          "text": [
            "root\n",
            " |-- PassengerId: string (nullable = true)\n",
            " |-- Survived: string (nullable = true)\n",
            " |-- Pclass: string (nullable = true)\n",
            " |-- Name: string (nullable = true)\n",
            " |-- Sex: string (nullable = true)\n",
            " |-- Age: string (nullable = true)\n",
            " |-- SibSp: string (nullable = true)\n",
            " |-- Parch: string (nullable = true)\n",
            " |-- Ticket: string (nullable = true)\n",
            " |-- Fare: string (nullable = true)\n",
            " |-- Cabin: string (nullable = true)\n",
            " |-- Embarked: string (nullable = true)\n",
            "\n"
          ]
        }
      ],
      "source": [
        "df.printSchema()"
      ]
    },
    {
      "cell_type": "markdown",
      "metadata": {
        "application/vnd.databricks.v1+cell": {
          "cellMetadata": {
            "byteLimit": 2048000,
            "rowLimit": 10000
          },
          "inputWidgets": {},
          "nuid": "c6573071-8d5b-4c68-b518-1dd9c25ea95e",
          "showTitle": false,
          "title": ""
        },
        "id": "mvNmcGqTJR5K"
      },
      "source": [
        "For the sake of simplicity, numerical columns are converted from string to integer/double format."
      ]
    },
    {
      "cell_type": "code",
      "execution_count": null,
      "metadata": {
        "application/vnd.databricks.v1+cell": {
          "cellMetadata": {
            "byteLimit": 2048000,
            "rowLimit": 10000
          },
          "inputWidgets": {},
          "nuid": "b5b5a667-11aa-48f2-ad64-8ebe9eed35d1",
          "showTitle": false,
          "title": ""
        },
        "id": "mVrHI7RAJR5K"
      },
      "outputs": [],
      "source": [
        "df = df\\\n",
        "    .withColumn(\"PassengerId\", col(\"PassengerId\").cast(IntegerType()))\\\n",
        "    .withColumn(\"Survived\", col(\"Survived\").cast(IntegerType()))\\\n",
        "    .withColumn(\"Pclass\", col(\"Pclass\").cast(IntegerType()))\\\n",
        "    .withColumn(\"Age\", col(\"Age\").cast(IntegerType()))\\\n",
        "    .withColumn(\"SibSp\", col(\"SibSp\").cast(IntegerType()))\\\n",
        "    .withColumn(\"Parch\", col(\"Parch\").cast(IntegerType()))\\\n",
        "    .withColumn(\"Fare\", col(\"Fare\").cast(DoubleType()))"
      ]
    },
    {
      "cell_type": "code",
      "execution_count": null,
      "metadata": {
        "application/vnd.databricks.v1+cell": {
          "cellMetadata": {
            "byteLimit": 2048000,
            "rowLimit": 10000
          },
          "inputWidgets": {},
          "nuid": "cbb54fbf-95c5-4c92-8af0-099efccc09ad",
          "showTitle": false,
          "title": ""
        },
        "id": "buSIfFDZJR5K",
        "outputId": "9ffdba72-6a8f-4574-f515-fdd32110fc22",
        "colab": {
          "base_uri": "https://localhost:8080/"
        }
      },
      "outputs": [
        {
          "output_type": "stream",
          "name": "stdout",
          "text": [
            "root\n",
            " |-- PassengerId: integer (nullable = true)\n",
            " |-- Survived: integer (nullable = true)\n",
            " |-- Pclass: integer (nullable = true)\n",
            " |-- Name: string (nullable = true)\n",
            " |-- Sex: string (nullable = true)\n",
            " |-- Age: integer (nullable = true)\n",
            " |-- SibSp: integer (nullable = true)\n",
            " |-- Parch: integer (nullable = true)\n",
            " |-- Ticket: string (nullable = true)\n",
            " |-- Fare: double (nullable = true)\n",
            " |-- Cabin: string (nullable = true)\n",
            " |-- Embarked: string (nullable = true)\n",
            "\n"
          ]
        }
      ],
      "source": [
        "df.printSchema()"
      ]
    },
    {
      "cell_type": "markdown",
      "metadata": {
        "application/vnd.databricks.v1+cell": {
          "cellMetadata": {
            "byteLimit": 2048000,
            "rowLimit": 10000
          },
          "inputWidgets": {},
          "nuid": "9cf7944b-e4fa-45bb-9055-b053bf48929a",
          "showTitle": false,
          "title": ""
        },
        "id": "8TObV4mzJR5L"
      },
      "source": [
        "**Variables Dictionary:**\n",
        "\n",
        "- PassengerId: Identifier for each passenger.\n",
        "- Survived: Survival status of the passenger.\n",
        "  - 1 = Yes\n",
        "  - 0 = No\n",
        "- Pclass: Ticket class, serving as a proxy for socio-economic status.\n",
        "  - 1 = 1st cabin\n",
        "  - 2 = 2nd cabin\n",
        "  - 3 = 3rd cabin\n",
        "- Name: Full name of the passenger.\n",
        "- Sex: Gender of the passenger.\n",
        "- Age: Age of the passenger in years.\n",
        "- SibSp: Number of siblings/spouses aboard.\n",
        "- Parch: Number of parents/children aboard.\n",
        "- Ticket: Ticket number.\n",
        "- Fare: Fare paid by the passenger.\n",
        "- Cabin: Cabin number.\n",
        "- Embarked: Port of embarkation.\n",
        "  - C = Cherbourg port\n",
        "  - Q = Queenstown port\n",
        "  - S = Southampton port"
      ]
    },
    {
      "cell_type": "code",
      "execution_count": null,
      "metadata": {
        "application/vnd.databricks.v1+cell": {
          "cellMetadata": {
            "byteLimit": 2048000,
            "rowLimit": 10000
          },
          "inputWidgets": {},
          "nuid": "71da46f7-e44f-4e44-aad4-3e20a11acc6e",
          "showTitle": false,
          "title": ""
        },
        "id": "GGFcg3L6JR5L",
        "outputId": "919dd7d7-e6f5-4065-f283-18ea84d67423",
        "colab": {
          "base_uri": "https://localhost:8080/"
        }
      },
      "outputs": [
        {
          "output_type": "stream",
          "name": "stdout",
          "text": [
            "rows: 891\n",
            "columns: 12\n"
          ]
        }
      ],
      "source": [
        "print(\"rows:\", df.count())\n",
        "print(\"columns:\", len(df.columns))"
      ]
    },
    {
      "cell_type": "markdown",
      "metadata": {
        "application/vnd.databricks.v1+cell": {
          "cellMetadata": {
            "byteLimit": 2048000,
            "rowLimit": 10000
          },
          "inputWidgets": {},
          "nuid": "5ae2561d-56c1-4125-8740-c92caaa1051c",
          "showTitle": false,
          "title": ""
        },
        "id": "k_Aswg1DJR5L"
      },
      "source": [
        "### 1.3) Duplicate values"
      ]
    },
    {
      "cell_type": "code",
      "execution_count": null,
      "metadata": {
        "application/vnd.databricks.v1+cell": {
          "cellMetadata": {
            "byteLimit": 2048000,
            "rowLimit": 10000
          },
          "inputWidgets": {},
          "nuid": "c93a3b94-e9cc-4455-acae-2ec05637bbfc",
          "showTitle": false,
          "title": ""
        },
        "id": "F8bVjrjUJR5L",
        "outputId": "6114efbb-be0a-42b9-9267-138ae21c0fbc",
        "colab": {
          "base_uri": "https://localhost:8080/"
        }
      },
      "outputs": [
        {
          "output_type": "stream",
          "name": "stdout",
          "text": [
            "Number of duplicate rows: 0\n"
          ]
        }
      ],
      "source": [
        "duplicates = df.count() - (df.dropDuplicates()).count()\n",
        "print(f\"Number of duplicate rows: {duplicates}\")\n",
        "\n",
        "# display the duplicate rows\n",
        "if duplicates > 0:\n",
        "    from pyspark.sql.functions import col\n",
        "    # Columns to check for duplicates, if you want to specify: ['column1', 'column2']\n",
        "    df.groupBy(df.columns).count().filter(col('count') > 1).drop('count').show()"
      ]
    },
    {
      "cell_type": "markdown",
      "metadata": {
        "application/vnd.databricks.v1+cell": {
          "cellMetadata": {
            "byteLimit": 2048000,
            "rowLimit": 10000
          },
          "inputWidgets": {},
          "nuid": "cafc165c-a353-4781-b037-9593555c7572",
          "showTitle": false,
          "title": ""
        },
        "id": "D-wvCBAVJR5L"
      },
      "source": [
        "### 1.4) Missing values"
      ]
    },
    {
      "cell_type": "code",
      "execution_count": null,
      "metadata": {
        "application/vnd.databricks.v1+cell": {
          "cellMetadata": {
            "byteLimit": 2048000,
            "rowLimit": 10000
          },
          "inputWidgets": {},
          "nuid": "554e8bd4-179e-4b31-836a-32802d430383",
          "showTitle": false,
          "title": ""
        },
        "id": "Denzd4kWJR5L",
        "outputId": "a5fc016d-1001-490c-f02b-4541a124c213",
        "colab": {
          "base_uri": "https://localhost:8080/"
        }
      },
      "outputs": [
        {
          "output_type": "stream",
          "name": "stdout",
          "text": [
            "+-----------+--------+------+----+---+---+-----+-----+------+----+-----+--------+\n",
            "|PassengerId|Survived|Pclass|Name|Sex|Age|SibSp|Parch|Ticket|Fare|Cabin|Embarked|\n",
            "+-----------+--------+------+----+---+---+-----+-----+------+----+-----+--------+\n",
            "|          0|       0|     0|   0|  0|177|    0|    0|     0|   0|  687|       2|\n",
            "+-----------+--------+------+----+---+---+-----+-----+------+----+-----+--------+\n",
            "\n"
          ]
        }
      ],
      "source": [
        "missing_data = df.select([count(when(col(c).isNull(), c)).alias(c) for c in df.columns])\n",
        "missing_data.show()"
      ]
    },
    {
      "cell_type": "markdown",
      "metadata": {
        "application/vnd.databricks.v1+cell": {
          "cellMetadata": {
            "byteLimit": 2048000,
            "rowLimit": 10000
          },
          "inputWidgets": {},
          "nuid": "1b8d2a3b-bced-493f-ad3d-570399ff9dea",
          "showTitle": false,
          "title": ""
        },
        "id": "4_RidgYTJR5L"
      },
      "source": [
        "Missing values for:\n",
        "- Age (177 missing values)\n",
        "- Cabin (687 missing values)\n",
        "- Embarked (2 missing values)"
      ]
    },
    {
      "cell_type": "markdown",
      "metadata": {
        "application/vnd.databricks.v1+cell": {
          "cellMetadata": {
            "byteLimit": 2048000,
            "rowLimit": 10000
          },
          "inputWidgets": {},
          "nuid": "622ea595-3d25-416c-952c-3cbef8581fb5",
          "showTitle": false,
          "title": ""
        },
        "id": "D7cy_oB7JR5a"
      },
      "source": [
        "### 1.5) Statistical summary"
      ]
    },
    {
      "cell_type": "code",
      "execution_count": null,
      "metadata": {
        "application/vnd.databricks.v1+cell": {
          "cellMetadata": {
            "byteLimit": 2048000,
            "rowLimit": 10000
          },
          "inputWidgets": {},
          "nuid": "f700f5b1-6ee2-4b6f-8168-4274d18187f0",
          "showTitle": false,
          "title": ""
        },
        "id": "_BQTjMBGJR5a",
        "colab": {
          "base_uri": "https://localhost:8080/"
        },
        "outputId": "017291fb-643b-4f09-b26e-8e8e151d7d0a"
      },
      "outputs": [
        {
          "output_type": "stream",
          "name": "stdout",
          "text": [
            "+-------+-----------------+-------------------+------------------+--------------------+------+------------------+------------------+-------------------+------------------+-----------------+-----+--------+\n",
            "|summary|      PassengerId|           Survived|            Pclass|                Name|   Sex|               Age|             SibSp|              Parch|            Ticket|             Fare|Cabin|Embarked|\n",
            "+-------+-----------------+-------------------+------------------+--------------------+------+------------------+------------------+-------------------+------------------+-----------------+-----+--------+\n",
            "|  count|              891|                891|               891|                 891|   891|               714|               891|                891|               891|              891|  204|     889|\n",
            "|   mean|            446.0| 0.3838383838383838| 2.308641975308642|                NULL|  NULL|29.679271708683473|0.5230078563411896|0.38159371492704824|260318.54916792738| 32.2042079685746| NULL|    NULL|\n",
            "| stddev|257.3538420152301|0.48659245426485753|0.8360712409770491|                NULL|  NULL|14.536482769437564|1.1027434322934315| 0.8060572211299488|471609.26868834975|49.69342859718089| NULL|    NULL|\n",
            "|    min|                1|                  0|                 1|\"Andersson, Mr. A...|female|                 0|                 0|                  0|            110152|              0.0|  A10|       C|\n",
            "|    max|              891|                  1|                 3|van Melkebeke, Mr...|  male|                80|                 8|                  6|         WE/P 5735|         512.3292|    T|       S|\n",
            "+-------+-----------------+-------------------+------------------+--------------------+------+------------------+------------------+-------------------+------------------+-----------------+-----+--------+\n",
            "\n"
          ]
        }
      ],
      "source": [
        "df.describe().show()"
      ]
    },
    {
      "cell_type": "markdown",
      "metadata": {
        "application/vnd.databricks.v1+cell": {
          "cellMetadata": {
            "byteLimit": 2048000,
            "rowLimit": 10000
          },
          "inputWidgets": {},
          "nuid": "36e8eacb-37f4-4c3a-aabf-2ea1546ec499",
          "showTitle": false,
          "title": ""
        },
        "id": "bw0_Cq3EJR5a"
      },
      "source": [
        "**Analysis:**\n",
        "- The average age of passengers is approximately 30 years old, with a standard deviation of approximately 14.54 years. However, there are 177 missing values for age, which may affect the analysis.\n",
        "- The average fare paid by passengers is around 32.20, with a standard deviation of approximately 49.69, indicating a wide range of fares paid by passengers.\n",
        "- Passengers' ages range from 0 to 80 years.\n",
        "- SibSp (number of siblings/spouses aboard) ranges from 0 to 8. The average of approximately 0.52 and standard deviation 1.10 suggests less than half of the passengers yravelled with more siblings or spouses as some passengers had several family members aboard.\n",
        "- Parch (number of parents/children aboard) ranges from 0 to 6, with an average of approximately 0.38, indicating that, on average, passengers had less than one parent or child aboard.\n",
        "\n",
        "Ticket classes, fares, and family sizes (siblings, spouses, parents, children) vary significantly, indicating diverse socio-economic backgrounds and family travelling situations. It's also important to note the missing values for age, cabin, and embarked, which may affect the analysis."
      ]
    },
    {
      "cell_type": "markdown",
      "metadata": {
        "application/vnd.databricks.v1+cell": {
          "cellMetadata": {
            "byteLimit": 2048000,
            "rowLimit": 10000
          },
          "inputWidgets": {},
          "nuid": "c28740f6-0ad7-4504-b3f7-936fa3825228",
          "showTitle": false,
          "title": ""
        },
        "id": "5npR_1jrJR5a"
      },
      "source": [
        "### 1.6) Data visualization"
      ]
    },
    {
      "cell_type": "code",
      "execution_count": null,
      "metadata": {
        "application/vnd.databricks.v1+cell": {
          "cellMetadata": {
            "byteLimit": 2048000,
            "rowLimit": 10000
          },
          "inputWidgets": {},
          "nuid": "95de0d49-5ca9-4eca-b8bd-092fc5b3fdc9",
          "showTitle": false,
          "title": ""
        },
        "id": "sRklF1FjJR5a",
        "colab": {
          "base_uri": "https://localhost:8080/",
          "height": 203
        },
        "outputId": "af87aa99-3625-441a-aeee-298d7444f1e2"
      },
      "outputs": [
        {
          "output_type": "execute_result",
          "data": {
            "text/plain": [
              "pandas.core.frame.DataFrame"
            ],
            "text/html": [
              "<div style=\"max-width:800px; border: 1px solid var(--colab-border-color);\"><style>\n",
              "      pre.function-repr-contents {\n",
              "        overflow-x: auto;\n",
              "        padding: 8px 12px;\n",
              "        max-height: 500px;\n",
              "      }\n",
              "\n",
              "      pre.function-repr-contents.function-repr-contents-collapsed {\n",
              "        cursor: pointer;\n",
              "        max-height: 100px;\n",
              "      }\n",
              "    </style>\n",
              "    <pre style=\"white-space: initial; background:\n",
              "         var(--colab-secondary-surface-color); padding: 8px 12px;\n",
              "         border-bottom: 1px solid var(--colab-border-color);\"><b>pandas.core.frame.DataFrame</b><br/>def __init__(data=None, index: Axes | None=None, columns: Axes | None=None, dtype: Dtype | None=None, copy: bool | None=None) -&gt; None</pre><pre class=\"function-repr-contents function-repr-contents-collapsed\" style=\"\"><a class=\"filepath\" style=\"display:none\" href=\"#\">/usr/local/lib/python3.10/dist-packages/pandas/core/frame.py</a>Two-dimensional, size-mutable, potentially heterogeneous tabular data.\n",
              "\n",
              "Data structure also contains labeled axes (rows and columns).\n",
              "Arithmetic operations align on both row and column labels. Can be\n",
              "thought of as a dict-like container for Series objects. The primary\n",
              "pandas data structure.\n",
              "\n",
              "Parameters\n",
              "----------\n",
              "data : ndarray (structured or homogeneous), Iterable, dict, or DataFrame\n",
              "    Dict can contain Series, arrays, constants, dataclass or list-like objects. If\n",
              "    data is a dict, column order follows insertion-order. If a dict contains Series\n",
              "    which have an index defined, it is aligned by its index. This alignment also\n",
              "    occurs if data is a Series or a DataFrame itself. Alignment is done on\n",
              "    Series/DataFrame inputs.\n",
              "\n",
              "    If data is a list of dicts, column order follows insertion-order.\n",
              "\n",
              "index : Index or array-like\n",
              "    Index to use for resulting frame. Will default to RangeIndex if\n",
              "    no indexing information part of input data and no index provided.\n",
              "columns : Index or array-like\n",
              "    Column labels to use for resulting frame when data does not have them,\n",
              "    defaulting to RangeIndex(0, 1, 2, ..., n). If data contains column labels,\n",
              "    will perform column selection instead.\n",
              "dtype : dtype, default None\n",
              "    Data type to force. Only a single dtype is allowed. If None, infer.\n",
              "copy : bool or None, default None\n",
              "    Copy data from inputs.\n",
              "    For dict data, the default of None behaves like ``copy=True``.  For DataFrame\n",
              "    or 2d ndarray input, the default of None behaves like ``copy=False``.\n",
              "    If data is a dict containing one or more Series (possibly of different dtypes),\n",
              "    ``copy=False`` will ensure that these inputs are not copied.\n",
              "\n",
              "    .. versionchanged:: 1.3.0\n",
              "\n",
              "See Also\n",
              "--------\n",
              "DataFrame.from_records : Constructor from tuples, also record arrays.\n",
              "DataFrame.from_dict : From dicts of Series, arrays, or dicts.\n",
              "read_csv : Read a comma-separated values (csv) file into DataFrame.\n",
              "read_table : Read general delimited file into DataFrame.\n",
              "read_clipboard : Read text from clipboard into DataFrame.\n",
              "\n",
              "Notes\n",
              "-----\n",
              "Please reference the :ref:`User Guide &lt;basics.dataframe&gt;` for more information.\n",
              "\n",
              "Examples\n",
              "--------\n",
              "Constructing DataFrame from a dictionary.\n",
              "\n",
              "&gt;&gt;&gt; d = {&#x27;col1&#x27;: [1, 2], &#x27;col2&#x27;: [3, 4]}\n",
              "&gt;&gt;&gt; df = pd.DataFrame(data=d)\n",
              "&gt;&gt;&gt; df\n",
              "   col1  col2\n",
              "0     1     3\n",
              "1     2     4\n",
              "\n",
              "Notice that the inferred dtype is int64.\n",
              "\n",
              "&gt;&gt;&gt; df.dtypes\n",
              "col1    int64\n",
              "col2    int64\n",
              "dtype: object\n",
              "\n",
              "To enforce a single dtype:\n",
              "\n",
              "&gt;&gt;&gt; df = pd.DataFrame(data=d, dtype=np.int8)\n",
              "&gt;&gt;&gt; df.dtypes\n",
              "col1    int8\n",
              "col2    int8\n",
              "dtype: object\n",
              "\n",
              "Constructing DataFrame from a dictionary including Series:\n",
              "\n",
              "&gt;&gt;&gt; d = {&#x27;col1&#x27;: [0, 1, 2, 3], &#x27;col2&#x27;: pd.Series([2, 3], index=[2, 3])}\n",
              "&gt;&gt;&gt; pd.DataFrame(data=d, index=[0, 1, 2, 3])\n",
              "   col1  col2\n",
              "0     0   NaN\n",
              "1     1   NaN\n",
              "2     2   2.0\n",
              "3     3   3.0\n",
              "\n",
              "Constructing DataFrame from numpy ndarray:\n",
              "\n",
              "&gt;&gt;&gt; df2 = pd.DataFrame(np.array([[1, 2, 3], [4, 5, 6], [7, 8, 9]]),\n",
              "...                    columns=[&#x27;a&#x27;, &#x27;b&#x27;, &#x27;c&#x27;])\n",
              "&gt;&gt;&gt; df2\n",
              "   a  b  c\n",
              "0  1  2  3\n",
              "1  4  5  6\n",
              "2  7  8  9\n",
              "\n",
              "Constructing DataFrame from a numpy ndarray that has labeled columns:\n",
              "\n",
              "&gt;&gt;&gt; data = np.array([(1, 2, 3), (4, 5, 6), (7, 8, 9)],\n",
              "...                 dtype=[(&quot;a&quot;, &quot;i4&quot;), (&quot;b&quot;, &quot;i4&quot;), (&quot;c&quot;, &quot;i4&quot;)])\n",
              "&gt;&gt;&gt; df3 = pd.DataFrame(data, columns=[&#x27;c&#x27;, &#x27;a&#x27;])\n",
              "...\n",
              "&gt;&gt;&gt; df3\n",
              "   c  a\n",
              "0  3  1\n",
              "1  6  4\n",
              "2  9  7\n",
              "\n",
              "Constructing DataFrame from dataclass:\n",
              "\n",
              "&gt;&gt;&gt; from dataclasses import make_dataclass\n",
              "&gt;&gt;&gt; Point = make_dataclass(&quot;Point&quot;, [(&quot;x&quot;, int), (&quot;y&quot;, int)])\n",
              "&gt;&gt;&gt; pd.DataFrame([Point(0, 0), Point(0, 3), Point(2, 3)])\n",
              "   x  y\n",
              "0  0  0\n",
              "1  0  3\n",
              "2  2  3\n",
              "\n",
              "Constructing DataFrame from Series/DataFrame:\n",
              "\n",
              "&gt;&gt;&gt; ser = pd.Series([1, 2, 3], index=[&quot;a&quot;, &quot;b&quot;, &quot;c&quot;])\n",
              "&gt;&gt;&gt; df = pd.DataFrame(data=ser, index=[&quot;a&quot;, &quot;c&quot;])\n",
              "&gt;&gt;&gt; df\n",
              "   0\n",
              "a  1\n",
              "c  3\n",
              "\n",
              "&gt;&gt;&gt; df1 = pd.DataFrame([1, 2, 3], index=[&quot;a&quot;, &quot;b&quot;, &quot;c&quot;], columns=[&quot;x&quot;])\n",
              "&gt;&gt;&gt; df2 = pd.DataFrame(data=df1, index=[&quot;a&quot;, &quot;c&quot;])\n",
              "&gt;&gt;&gt; df2\n",
              "   x\n",
              "a  1\n",
              "c  3</pre>\n",
              "      <script>\n",
              "      if (google.colab.kernel.accessAllowed && google.colab.files && google.colab.files.view) {\n",
              "        for (const element of document.querySelectorAll('.filepath')) {\n",
              "          element.style.display = 'block'\n",
              "          element.onclick = (event) => {\n",
              "            event.preventDefault();\n",
              "            event.stopPropagation();\n",
              "            google.colab.files.view(element.textContent, 490);\n",
              "          };\n",
              "        }\n",
              "      }\n",
              "      for (const element of document.querySelectorAll('.function-repr-contents')) {\n",
              "        element.onclick = (event) => {\n",
              "          event.preventDefault();\n",
              "          event.stopPropagation();\n",
              "          element.classList.toggle('function-repr-contents-collapsed');\n",
              "        };\n",
              "      }\n",
              "      </script>\n",
              "      </div>"
            ]
          },
          "metadata": {},
          "execution_count": 77
        }
      ],
      "source": [
        "dfp = df.toPandas()\n",
        "type(dfp)"
      ]
    },
    {
      "cell_type": "code",
      "source": [
        "import seaborn as sns\n",
        "import matplotlib.pyplot as plt\n",
        "\n",
        "def makeBarchart2(df, target, hue=None, color_palette=\"viridis\", title=\"\", legend=True, label_position=\"top\", xlabel=\"\", ylabel='Number of passengers'):\n",
        "    \"\"\"\n",
        "    Create a bar chart with optional hue differentiation.\n",
        "\n",
        "    Parameters:\n",
        "        df (DataFrame): The DataFrame containing the data.\n",
        "        target (str): The column name to be used as the x-axis.\n",
        "        hue (str, optional): The column name to be used for hue differentiation.\n",
        "        color_palette (str, optional): The color palette to use.\n",
        "        title (str, optional): The title of the plot.\n",
        "        legend (bool, optional): Whether to display the legend.\n",
        "        label_position (str, optional): Position of the labels ('top' or 'bottom').\n",
        "        xlabel (str, optional): Label for the x-axis.\n",
        "        ylabel (str, optional): Label for the y-axis.\n",
        "    \"\"\"\n",
        "    ax = sns.countplot(x=target, hue=hue, data=df, palette=color_palette) if hue else sns.countplot(x=target, data=df, palette=color_palette)\n",
        "    plt.title(title)\n",
        "    plt.xlabel(xlabel)\n",
        "    plt.ylabel(ylabel)\n",
        "\n",
        "    for p in ax.patches:\n",
        "        count = int(p.get_height())\n",
        "        if count > 0:  # Only annotate bars that have a height greater than zero\n",
        "            percentage = f'{100 * count / len(df):.1f}%'\n",
        "            annotation_text = f'{count}\\n({percentage})'\n",
        "            x_pos = p.get_x() + p.get_width() / 2\n",
        "            y_pos = p.get_height() if label_position == \"top\" else 0\n",
        "            text_color = 'black' if label_position == \"top\" else 'white'\n",
        "            ax.annotate(annotation_text, (x_pos, y_pos), ha='center', va='bottom', fontsize=10, color=text_color, xytext=(0, 10), textcoords='offset points')\n",
        "\n",
        "    if legend and hue:\n",
        "        plt.legend(title=hue)\n",
        "\n",
        "    plt.show()\n"
      ],
      "metadata": {
        "id": "vrEbPSP2SUJ0"
      },
      "execution_count": null,
      "outputs": []
    },
    {
      "cell_type": "markdown",
      "metadata": {
        "application/vnd.databricks.v1+cell": {
          "cellMetadata": {
            "byteLimit": 2048000,
            "rowLimit": 10000
          },
          "inputWidgets": {},
          "nuid": "81ed7ddb-8638-478d-857a-52b6cf93d418",
          "showTitle": false,
          "title": ""
        },
        "id": "qtOZBOIkJR5a"
      },
      "source": [
        "#### 1.6.1) Survived VS Not Survived"
      ]
    },
    {
      "cell_type": "code",
      "execution_count": null,
      "metadata": {
        "application/vnd.databricks.v1+cell": {
          "cellMetadata": {
            "byteLimit": 2048000,
            "rowLimit": 10000
          },
          "inputWidgets": {},
          "nuid": "d77c3bd7-eb0a-4e6a-a5ea-11cb3d33b9a3",
          "showTitle": false,
          "title": ""
        },
        "id": "lpi16ofIJR5a",
        "colab": {
          "base_uri": "https://localhost:8080/",
          "height": 579
        },
        "outputId": "85e462fb-f4d3-481b-ad40-67fb306abba1"
      },
      "outputs": [
        {
          "output_type": "stream",
          "name": "stderr",
          "text": [
            "<ipython-input-78-8fffab59b8e8>:19: FutureWarning: \n",
            "\n",
            "Passing `palette` without assigning `hue` is deprecated and will be removed in v0.14.0. Assign the `x` variable to `hue` and set `legend=False` for the same effect.\n",
            "\n",
            "  ax = sns.countplot(x=target, hue=hue, data=df, palette=color_palette) if hue else sns.countplot(x=target, data=df, palette=color_palette)\n"
          ]
        },
        {
          "output_type": "display_data",
          "data": {
            "text/plain": [
              "<Figure size 640x480 with 1 Axes>"
            ],
            "image/png": "[encoded data removed]"
          },
          "metadata": {}
        }
      ],
      "source": [
        "title = f'1.6.1) Survived VS Not Survived (Total Passengers: {len(dfp)})'\n",
        "makeBarchart2(dfp,'Survived', None, ['#d93725', '#21913c'], title, True, None, 'Status')"
      ]
    },
    {
      "cell_type": "markdown",
      "source": [
        "The plot above showcase *Not Survived passengers* as 0 and *Survived passengers* as 1. Only 38.4% of the passengers aboard the Titanic survived."
      ],
      "metadata": {
        "id": "lZvokidtwatm"
      }
    },
    {
      "cell_type": "markdown",
      "metadata": {
        "application/vnd.databricks.v1+cell": {
          "cellMetadata": {
            "byteLimit": 2048000,
            "rowLimit": 10000
          },
          "inputWidgets": {},
          "nuid": "1cc454b3-6634-4a29-a953-476019ada3b4",
          "showTitle": false,
          "title": ""
        },
        "id": "uB-CiL2oJR5a"
      },
      "source": [
        "#### 1.6.2) Survived VS Not Survived Split by Gender"
      ]
    },
    {
      "cell_type": "code",
      "execution_count": null,
      "metadata": {
        "application/vnd.databricks.v1+cell": {
          "cellMetadata": {
            "byteLimit": 2048000,
            "rowLimit": 10000
          },
          "inputWidgets": {},
          "nuid": "91117170-ab8b-43b1-95c1-15a826058753",
          "showTitle": false,
          "title": ""
        },
        "id": "nxLYlyUtJR5a"
      },
      "outputs": [],
      "source": [
        "#makeBarchart2(dfp,'Sex',None,['blue','pink'],'Distribution of Passengers by Sex', None, None, 'Sex')"
      ]
    },
    {
      "cell_type": "code",
      "execution_count": null,
      "metadata": {
        "application/vnd.databricks.v1+cell": {
          "cellMetadata": {
            "byteLimit": 2048000,
            "rowLimit": 10000
          },
          "inputWidgets": {},
          "nuid": "2bf66a3a-4e02-4d91-9193-4c85999cd149",
          "showTitle": false,
          "title": ""
        },
        "id": "eOMUXYKFJR5b"
      },
      "outputs": [],
      "source": [
        "#makeBarchart2(dfp[dfp['Survived'] == 1],'Sex',None,['pink','blue'],'Survived Passengers by Sex', None, None, 'Sex')"
      ]
    },
    {
      "cell_type": "code",
      "execution_count": null,
      "metadata": {
        "application/vnd.databricks.v1+cell": {
          "cellMetadata": {
            "byteLimit": 2048000,
            "rowLimit": 10000
          },
          "inputWidgets": {},
          "nuid": "27047d3f-d148-49cc-80a8-97e0775820d1",
          "showTitle": false,
          "title": ""
        },
        "id": "JMtoDanSJR5b",
        "colab": {
          "base_uri": "https://localhost:8080/",
          "height": 472
        },
        "outputId": "8840a8ce-ff78-41df-e7ed-c5d282720ae6"
      },
      "outputs": [
        {
          "output_type": "display_data",
          "data": {
            "text/plain": [
              "<Figure size 640x480 with 1 Axes>"
            ],
            "image/png": "[encoded data removed]"
          },
          "metadata": {}
        }
      ],
      "source": [
        "makeBarchart2(dfp,'Sex','Survived', ['#d93725', '#21913c'],'1.6.2 Survived VS Not Survived Passengers by Sex', 'Survived', 'centre', 'Sex')"
      ]
    },
    {
      "cell_type": "markdown",
      "source": [
        "In green are the surviving passengers, while in red are the casualties.\n",
        "\n",
        "The number of male passengers is almost double the number of female passengers (577 vs 314). Despite this, we can clearly see that the number of surviving female passengers is more than twice the number of male passengers. The survival rate of women far exceeds that of male passengers."
      ],
      "metadata": {
        "id": "K8F0yeM0oHnK"
      }
    },
    {
      "cell_type": "markdown",
      "metadata": {
        "application/vnd.databricks.v1+cell": {
          "cellMetadata": {
            "byteLimit": 2048000,
            "rowLimit": 10000
          },
          "inputWidgets": {},
          "nuid": "fa2666a2-9cc2-4948-86c9-c589561b9c70",
          "showTitle": false,
          "title": ""
        },
        "id": "TX0J-YiXJR5b"
      },
      "source": [
        "#### 1.6.3) Passangers Class"
      ]
    },
    {
      "cell_type": "code",
      "execution_count": null,
      "metadata": {
        "application/vnd.databricks.v1+cell": {
          "cellMetadata": {
            "byteLimit": 2048000,
            "rowLimit": 10000
          },
          "inputWidgets": {},
          "nuid": "f44663d9-1732-4e39-9b64-9eda1eebfc63",
          "showTitle": false,
          "title": ""
        },
        "id": "K8Ul6Me9JR5b"
      },
      "outputs": [],
      "source": [
        "#makeBarchart2(dfp,'Pclass',None,'mako','1.6.3 Total Number of Passengers by Class', None, None, 'Class')"
      ]
    },
    {
      "cell_type": "code",
      "execution_count": null,
      "metadata": {
        "application/vnd.databricks.v1+cell": {
          "cellMetadata": {
            "byteLimit": 2048000,
            "rowLimit": 10000
          },
          "inputWidgets": {},
          "nuid": "c1e571ee-57fe-4694-a1af-a16c129fd8bc",
          "showTitle": false,
          "title": ""
        },
        "id": "dciUBOYuJR5b"
      },
      "outputs": [],
      "source": [
        "#makeBarchart2(dfp[dfp['Survived'] == 1],'Pclass',None,'mako','Survived by Class', None, None, 'Class')"
      ]
    },
    {
      "cell_type": "code",
      "source": [
        "makeBarchart2(dfp,'Pclass','Survived', ['#d93725', '#21913c'],'1.6.3 Survived VS Not Survived Passengers by Class', 'Survived', 'centre', 'Sex')"
      ],
      "metadata": {
        "colab": {
          "base_uri": "https://localhost:8080/",
          "height": 472
        },
        "id": "4XEiYF8RzUeW",
        "outputId": "db2bdd8e-4f65-49c4-b859-a4595d9a752c"
      },
      "execution_count": null,
      "outputs": [
        {
          "output_type": "display_data",
          "data": {
            "text/plain": [
              "<Figure size 640x480 with 1 Axes>"
            ],
            "image/png": "[encoded data removed]"
          },
          "metadata": {}
        }
      ]
    },
    {
      "cell_type": "markdown",
      "source": [
        "Over half of passengers were in third class (55%).\n",
        "\n",
        "First-class passengers had a 62% survival rate, while second-class passengers had slightly lower odds, with about a 50/50 chance of survival. Conversely, for third-class passengers, survival was very unlikely.\n",
        "\n",
        "The unfortunate fate that third-class passengers met is somewhat expected, as lower-class passengers likely had cabins situated below deck and possibly in very cramped areas. Consequently, they would have been the first ones to face danger and possibly had a harder time reaching the upper decks due to overcrowding of the spaces."
      ],
      "metadata": {
        "id": "h-K3cVhyz1--"
      }
    },
    {
      "cell_type": "markdown",
      "metadata": {
        "application/vnd.databricks.v1+cell": {
          "cellMetadata": {
            "byteLimit": 2048000,
            "rowLimit": 10000
          },
          "inputWidgets": {},
          "nuid": "abbd5ef3-cf99-4bb9-911f-e98501bffa85",
          "showTitle": false,
          "title": ""
        },
        "id": "mrjhcrx5JR5b"
      },
      "source": [
        "#### 1.6.4) Passangers Age"
      ]
    },
    {
      "cell_type": "code",
      "execution_count": null,
      "metadata": {
        "application/vnd.databricks.v1+cell": {
          "cellMetadata": {
            "byteLimit": 2048000,
            "rowLimit": 10000
          },
          "inputWidgets": {},
          "nuid": "fe66bc16-cf6a-489c-9137-52eab7af3488",
          "showTitle": false,
          "title": ""
        },
        "id": "vRPJYCKPJR5b",
        "colab": {
          "base_uri": "https://localhost:8080/",
          "height": 292
        },
        "outputId": "2a72a28a-246a-4a3e-c13f-46034a91ac8d"
      },
      "outputs": [
        {
          "output_type": "display_data",
          "data": {
            "text/plain": [
              "<Figure size 1500x600 with 2 Axes>"
            ],
            "image/png": "[encoded data removed]"
          },
          "metadata": {}
        }
      ],
      "source": [
        "survived_passengers = dfp[dfp['Survived'] == 1]\n",
        "not_survived_passengers = dfp[dfp['Survived'] == 0]\n",
        "\n",
        "fig, axs = plt.subplots(1, 2, figsize=(15, 6))\n",
        "\n",
        "# Survived plot\n",
        "sns.histplot(survived_passengers['Age'], bins=20, color='#21913c', kde=True, ax=axs[0])\n",
        "axs[0].set_title('1.6.4A Age Distribution of Survived')\n",
        "axs[0].set_xlabel('Age')\n",
        "axs[0].set_ylabel('Frequency')\n",
        "\n",
        "# Not Survived plot\n",
        "sns.histplot(not_survived_passengers['Age'], bins=20, color='#d93725', kde=True, ax=axs[1])\n",
        "axs[1].set_title('1.6.4B Age Distribution of Not Survived')\n",
        "axs[1].set_xlabel('Age')\n",
        "axs[1].set_ylabel('Frequency')\n",
        "\n",
        "plt.tight_layout()\n",
        "plt.show()\n"
      ]
    },
    {
      "cell_type": "markdown",
      "source": [
        "The graph on the left shows that the majority of survivors were under 30 years old. There is a peak in frequency around age 20-25. The frequency gradually decreases as age increases.\n",
        "\n",
        "The graph on the right shows that the majority of those who did not survive were over 30 years old. There is a peak in frequency around age 40-45. Similar to the survival graph, the frequency gradually decreases as age decreases."
      ],
      "metadata": {
        "id": "8fWl8BK87LhX"
      }
    },
    {
      "cell_type": "code",
      "source": [
        "# Filter data for survivors and casualties\n",
        "survivors_age = df.filter(col(\"Survived\") == \"1\").select(\"Age\").collect()\n",
        "casualties_age = df.filter(col(\"Survived\") == \"0\").select(\"Age\").collect()\n",
        "\n",
        "# Extract ages from Row objects and convert to float\n",
        "survivors_age = [float(row.Age) for row in survivors_age if row.Age is not None]\n",
        "casualties_age = [float(row.Age) for row in casualties_age if row.Age is not None]\n",
        "\n",
        "# Prepare data for box plots\n",
        "data = [survivors_age, casualties_age]\n",
        "labels = ['Survived', 'Not Survived']\n",
        "\n",
        "# Create box plots\n",
        "plt.figure(figsize=(8, 6))\n",
        "plt.boxplot(data, labels=labels, patch_artist=True, showmeans=True)\n",
        "plt.xlabel('Passenger Status')\n",
        "plt.ylabel('Age')\n",
        "plt.title('1.6.4.1 Box Plot of Age for Survived vs Not Survived')\n",
        "plt.grid(axis='y', linestyle='--', alpha=0.7)\n",
        "plt.show()"
      ],
      "metadata": {
        "colab": {
          "base_uri": "https://localhost:8080/",
          "height": 564
        },
        "id": "sq885138zsix",
        "outputId": "6f7bfa6f-dc50-4400-ec67-2747ab0f5e83"
      },
      "execution_count": null,
      "outputs": [
        {
          "output_type": "display_data",
          "data": {
            "text/plain": [
              "<Figure size 800x600 with 1 Axes>"
            ],
            "image/png": "[encoded data removed]"
          },
          "metadata": {}
        }
      ]
    },
    {
      "cell_type": "markdown",
      "source": [
        "Among the passengerd that didn't survive, there are more outliers, and the boxplot is longer. The age of the casualties tends to be between 1 and 66, while survivors are between 0 and 60."
      ],
      "metadata": {
        "id": "p5ZcmR3V1Rpg"
      }
    },
    {
      "cell_type": "markdown",
      "metadata": {
        "application/vnd.databricks.v1+cell": {
          "cellMetadata": {
            "byteLimit": 2048000,
            "rowLimit": 10000
          },
          "inputWidgets": {},
          "nuid": "b631cc3f-27be-48d2-b4af-700fce1b1109",
          "showTitle": false,
          "title": ""
        },
        "id": "1GiH0C5BJR5b"
      },
      "source": [
        "#### 1.6.5) Port of embarkation"
      ]
    },
    {
      "cell_type": "code",
      "execution_count": null,
      "metadata": {
        "application/vnd.databricks.v1+cell": {
          "cellMetadata": {
            "byteLimit": 2048000,
            "rowLimit": 10000
          },
          "inputWidgets": {},
          "nuid": "e651a170-494f-469f-8acd-80cdac82ad58",
          "showTitle": false,
          "title": ""
        },
        "id": "X0Y6MNUSJR5b",
        "colab": {
          "base_uri": "https://localhost:8080/",
          "height": 476
        },
        "outputId": "421964c5-b9a4-482b-c4c6-6cbc08f021de"
      },
      "outputs": [
        {
          "output_type": "display_data",
          "data": {
            "text/plain": [
              "<Figure size 640x480 with 1 Axes>"
            ],
            "image/png": "[encoded data removed]"
          },
          "metadata": {}
        }
      ],
      "source": [
        "#makeBarchart2(dfp[dfp['Survived'] == 1],'Embarked',None,'mako','',None,'top','Port of Embarkation')\n",
        "makeBarchart2(dfp,'Embarked','Survived','mako','1.6.5 Survival Rate by Port of Embarkation',None,'top','Port of Embarkation')"
      ]
    },
    {
      "cell_type": "markdown",
      "metadata": {
        "application/vnd.databricks.v1+cell": {
          "cellMetadata": {
            "byteLimit": 2048000,
            "rowLimit": 10000
          },
          "inputWidgets": {},
          "nuid": "886d3204-2a96-4b5d-9bcf-0809fe37a17b",
          "showTitle": false,
          "title": ""
        },
        "id": "cr0oD1glJR5b"
      },
      "source": [
        "Passengers who embarked from Southampton had the highest number of survivors, followed by Cherbourg, and then Queenstown. However, it's important to consider the total number of people who boarded the Titanic in those ports. This suggests that while more passengers survived from Southampton overall, the proportion of survivors compared to the total number who embarked from that port show that Cherbourg passengers had a higher survival rate."
      ]
    },
    {
      "cell_type": "markdown",
      "metadata": {
        "application/vnd.databricks.v1+cell": {
          "cellMetadata": {
            "byteLimit": 2048000,
            "rowLimit": 10000
          },
          "inputWidgets": {},
          "nuid": "1fb2330b-a755-430f-890c-54e4b3044cb3",
          "showTitle": false,
          "title": ""
        },
        "id": "wTlFbclsJR5b"
      },
      "source": [
        "#### 1.6.6) Number of siblings/spouses aboard (SibSp)"
      ]
    },
    {
      "cell_type": "code",
      "execution_count": null,
      "metadata": {
        "application/vnd.databricks.v1+cell": {
          "cellMetadata": {
            "byteLimit": 2048000,
            "rowLimit": 10000
          },
          "inputWidgets": {},
          "nuid": "81f004ac-f51e-4af7-8093-0a3052f5f230",
          "showTitle": false,
          "title": ""
        },
        "id": "_cs9J8vcJR5b",
        "colab": {
          "base_uri": "https://localhost:8080/",
          "height": 583
        },
        "outputId": "dc67b7c4-7e36-49ce-a84d-b55ed0301c9e"
      },
      "outputs": [
        {
          "output_type": "stream",
          "name": "stderr",
          "text": [
            "<ipython-input-78-8fffab59b8e8>:19: FutureWarning: \n",
            "\n",
            "Passing `palette` without assigning `hue` is deprecated and will be removed in v0.14.0. Assign the `x` variable to `hue` and set `legend=False` for the same effect.\n",
            "\n",
            "  ax = sns.countplot(x=target, hue=hue, data=df, palette=color_palette) if hue else sns.countplot(x=target, data=df, palette=color_palette)\n"
          ]
        },
        {
          "output_type": "display_data",
          "data": {
            "text/plain": [
              "<Figure size 640x480 with 1 Axes>"
            ],
            "image/png": "[encoded data removed]"
          },
          "metadata": {}
        }
      ],
      "source": [
        "#makeBarchart2(dfp,'SibSp',None,'mako','Passangers by SibSp',None,'top','SibSp') #all\n",
        "makeBarchart2(dfp[dfp['Survived'] == 1],'SibSp',None,'mako','1.6.6 Survived Passengers by SibSp',None,'top','SibSp') #survived"
      ]
    },
    {
      "cell_type": "markdown",
      "metadata": {
        "application/vnd.databricks.v1+cell": {
          "cellMetadata": {
            "byteLimit": 2048000,
            "rowLimit": 10000
          },
          "inputWidgets": {},
          "nuid": "9d9400fd-0ae7-42c7-b1e6-d0b8f019863e",
          "showTitle": false,
          "title": ""
        },
        "id": "1qTbHRZOJR5b"
      },
      "source": [
        "It is evident that passengers with fewer siblings/spouses (SibSp) had a higher survival rate compared to those with more siblings/spouses. This observation suggests that having a smaller family size might have increased the chances of survival."
      ]
    },
    {
      "cell_type": "markdown",
      "metadata": {
        "application/vnd.databricks.v1+cell": {
          "cellMetadata": {
            "byteLimit": 2048000,
            "rowLimit": 10000
          },
          "inputWidgets": {},
          "nuid": "e419fd5f-90b8-4cc1-9c4c-3fd9bd66b4b7",
          "showTitle": false,
          "title": ""
        },
        "id": "zmJMyadTJR5c"
      },
      "source": [
        "#### 1.6.7) Number of parents/children aboard"
      ]
    },
    {
      "cell_type": "code",
      "execution_count": null,
      "metadata": {
        "application/vnd.databricks.v1+cell": {
          "cellMetadata": {
            "byteLimit": 2048000,
            "rowLimit": 10000
          },
          "inputWidgets": {},
          "nuid": "3c08d9ea-a2d2-43e1-9bf5-b44fd0ee0193",
          "showTitle": false,
          "title": ""
        },
        "id": "hsULo7QAJR5c",
        "colab": {
          "base_uri": "https://localhost:8080/",
          "height": 583
        },
        "outputId": "d0c00b38-cc17-4f03-ca50-a6e3ed764216"
      },
      "outputs": [
        {
          "output_type": "stream",
          "name": "stderr",
          "text": [
            "<ipython-input-78-8fffab59b8e8>:19: FutureWarning: \n",
            "\n",
            "Passing `palette` without assigning `hue` is deprecated and will be removed in v0.14.0. Assign the `x` variable to `hue` and set `legend=False` for the same effect.\n",
            "\n",
            "  ax = sns.countplot(x=target, hue=hue, data=df, palette=color_palette) if hue else sns.countplot(x=target, data=df, palette=color_palette)\n"
          ]
        },
        {
          "output_type": "display_data",
          "data": {
            "text/plain": [
              "<Figure size 640x480 with 1 Axes>"
            ],
            "image/png": "[encoded data removed]"
          },
          "metadata": {}
        }
      ],
      "source": [
        "makeBarchart2(dfp[dfp['Survived'] == 1],'Parch',None,'mako','1.6.7 Survived Passengers by ParCh',None,'top','Number of parents/children aboard')"
      ]
    },
    {
      "cell_type": "markdown",
      "source": [
        "The survival trend observed in plot 1.6.6 is also reflected in the 1.6.7 Parch plot, where passengers not having children or parents dependent on them ahd a better chance at surviving."
      ],
      "metadata": {
        "id": "NjagQF4_9nH1"
      }
    },
    {
      "cell_type": "markdown",
      "metadata": {
        "application/vnd.databricks.v1+cell": {
          "cellMetadata": {
            "byteLimit": 2048000,
            "rowLimit": 10000
          },
          "inputWidgets": {},
          "nuid": "70ef91b5-f1c8-46c2-bebe-0a237f931ce2",
          "showTitle": false,
          "title": ""
        },
        "id": "hHp2zmOoJR5c"
      },
      "source": [
        "#### 1.6.8) Ticket Fare"
      ]
    },
    {
      "cell_type": "code",
      "execution_count": null,
      "metadata": {
        "application/vnd.databricks.v1+cell": {
          "cellMetadata": {
            "byteLimit": 2048000,
            "rowLimit": 10000
          },
          "inputWidgets": {},
          "nuid": "2f3990bf-5b6c-435d-9947-cdbf5aaf5717",
          "showTitle": false,
          "title": ""
        },
        "id": "LspT1OC0JR5c",
        "colab": {
          "base_uri": "https://localhost:8080/",
          "height": 275
        },
        "outputId": "48463469-b084-4502-cbc4-665ba897a5c4"
      },
      "outputs": [
        {
          "output_type": "display_data",
          "data": {
            "text/plain": [
              "<Figure size 1600x600 with 2 Axes>"
            ],
            "image/png": "[encoded data removed]"
          },
          "metadata": {}
        }
      ],
      "source": [
        "# Filter the DataFrame for survived and not survived passengers separately\n",
        "survived_fare = dfp[dfp['Survived'] == 1]['Fare']\n",
        "not_survived_fare = dfp[dfp['Survived'] == 0]['Fare']\n",
        "\n",
        "# Setting up the figure and axes for the subplots\n",
        "fig, axes = plt.subplots(nrows=1, ncols=2, figsize=(16, 6))\n",
        "\n",
        "# Plotting the distribution of fares for survivors\n",
        "sns.histplot(survived_fare, kde=True, color='green', bins=30, ax=axes[0])\n",
        "axes[0].set_title('Distribution of Fare for Survived Passengers')\n",
        "axes[0].set_xlabel('Fare')\n",
        "axes[0].set_ylabel('Frequency')\n",
        "axes[0].grid(True)\n",
        "\n",
        "# Plotting the distribution of fares for non-survivors\n",
        "sns.histplot(not_survived_fare, kde=True, color='red', bins=30, ax=axes[1])\n",
        "axes[1].set_title('Distribution of Fare for Not Survived Passengers')\n",
        "axes[1].set_xlabel('Fare')\n",
        "axes[1].set_ylabel('Frequency')\n",
        "axes[1].grid(True)\n",
        "\n",
        "# Displaying the plots\n",
        "plt.tight_layout()\n",
        "plt.show()\n"
      ]
    },
    {
      "cell_type": "markdown",
      "metadata": {
        "application/vnd.databricks.v1+cell": {
          "cellMetadata": {
            "byteLimit": 2048000,
            "rowLimit": 10000
          },
          "inputWidgets": {},
          "nuid": "d0b56fef-6559-4d58-be3e-5bb2ee0084eb",
          "showTitle": false,
          "title": ""
        },
        "id": "52sElNguJR5c"
      },
      "source": [
        "Distribution of fares for passengers by whether they survived or not.\n",
        "\n",
        "The distribution for survived passengers (left graph) has a peak around 100 fare units, and trails off to zero around 300 fare units.\n",
        "\n",
        "The distribution for not-survived passengers (right graph) has a peak closer to 150 fare units, and also trails off to zero around 300 fare units.\n",
        "\n",
        "However, it is interesting to note that the distribution of fares for the two groups is very similar (both right-skewed). This suggests that the fare variable alone may not be the major factor in whether or not a passenger survived."
      ]
    },
    {
      "cell_type": "code",
      "source": [
        "# Filter data for survivors and casualties\n",
        "survivors_fare = df.filter(col(\"Survived\") == \"1\").select(\"Fare\").collect()\n",
        "casualties_fare = df.filter(col(\"Survived\") == \"0\").select(\"Fare\").collect()\n",
        "\n",
        "# Extract fares from Row objects\n",
        "survivors_fare = [row.Fare for row in survivors_fare if row.Fare is not None]\n",
        "casualties_fare = [row.Fare for row in casualties_fare if row.Fare is not None]\n",
        "\n",
        "# Prepare data for box plots\n",
        "data = [survivors_fare, casualties_fare]\n",
        "labels = ['Survivors', 'Casualties']\n",
        "\n",
        "# Create box plots\n",
        "plt.figure(figsize=(8, 6))\n",
        "plt.boxplot(data, labels=labels, patch_artist=True, showmeans=True)\n",
        "plt.xlabel('Passenger Status')\n",
        "plt.ylabel('Fare')\n",
        "plt.title('Box Plot of Fare for Survivors and Casualties')\n",
        "plt.grid(axis='y', linestyle='--', alpha=0.7)\n",
        "plt.show()\n"
      ],
      "metadata": {
        "colab": {
          "base_uri": "https://localhost:8080/",
          "height": 564
        },
        "id": "5Az6A_qn046u",
        "outputId": "ed6d9eb9-0dd7-4900-8133-925eb8b5e3af"
      },
      "execution_count": null,
      "outputs": [
        {
          "output_type": "display_data",
          "data": {
            "text/plain": [
              "<Figure size 800x600 with 1 Axes>"
            ],
            "image/png": "[encoded data removed]"
          },
          "metadata": {}
        }
      ]
    },
    {
      "cell_type": "markdown",
      "source": [
        "The casualties payed a lower fare then casualties, with some outliers in both distributions. In the survivors especially there is an extremely high 500+ fare."
      ],
      "metadata": {
        "id": "_jHb9n4I1ODc"
      }
    },
    {
      "cell_type": "markdown",
      "source": [
        "## 2) Data Cleaning"
      ],
      "metadata": {
        "id": "2zigSL7Jw7iO"
      }
    },
    {
      "cell_type": "markdown",
      "source": [
        "### 2.1) Managing \"Age\" missing values\n",
        "Strategy to handle missing values:\n",
        "- 1) Extract the titles from the \"Name\" column\n",
        "- 2) Replace less common titles with more common ones\n",
        "- 3) Group by gender, class, and title and calculate the avg. age for each group\n",
        "- 4) Fill missing age values with the corresponding median age (drops the temporary column used for calculating the avg age)"
      ],
      "metadata": {
        "id": "PXqWmisgkvem"
      }
    },
    {
      "cell_type": "code",
      "execution_count": null,
      "metadata": {
        "application/vnd.databricks.v1+cell": {
          "cellMetadata": {
            "byteLimit": 2048000,
            "rowLimit": 10000
          },
          "inputWidgets": {},
          "nuid": "5733f0da-a7f2-4783-b826-5c935cec07c3",
          "showTitle": false,
          "title": ""
        },
        "id": "ukIHGDwHJR5M"
      },
      "outputs": [],
      "source": [
        "# 1) get the title from 'Name' column\n",
        "df = df.withColumn(\"Title\", regexp_extract(\"Name\", \"([A-Za-z]+)\\.\", 1))"
      ]
    },
    {
      "cell_type": "code",
      "execution_count": null,
      "metadata": {
        "application/vnd.databricks.v1+cell": {
          "cellMetadata": {
            "byteLimit": 2048000,
            "rowLimit": 10000
          },
          "inputWidgets": {},
          "nuid": "4fcf28cc-a0a5-4fb8-a832-711d68afae19",
          "showTitle": false,
          "title": ""
        },
        "id": "BWmn7cTEJR5M",
        "outputId": "6429f669-4bc4-4384-a22a-e5175765a01c",
        "colab": {
          "base_uri": "https://localhost:8080/"
        }
      },
      "outputs": [
        {
          "output_type": "stream",
          "name": "stdout",
          "text": [
            "+--------+-----+\n",
            "|   Title|count|\n",
            "+--------+-----+\n",
            "|     Don|    1|\n",
            "|Countess|    1|\n",
            "|    Lady|    1|\n",
            "|     Mme|    1|\n",
            "|    Capt|    1|\n",
            "|     Sir|    1|\n",
            "|Jonkheer|    1|\n",
            "|      Ms|    1|\n",
            "|     Col|    2|\n",
            "|    Mlle|    2|\n",
            "|   Major|    2|\n",
            "|     Rev|    6|\n",
            "|      Dr|    7|\n",
            "|  Master|   40|\n",
            "|     Mrs|  125|\n",
            "|    Miss|  182|\n",
            "|      Mr|  517|\n",
            "+--------+-----+\n",
            "\n"
          ]
        }
      ],
      "source": [
        "(df.groupBy(\"Title\").count()).orderBy('count').show()"
      ]
    },
    {
      "cell_type": "code",
      "execution_count": null,
      "metadata": {
        "application/vnd.databricks.v1+cell": {
          "cellMetadata": {
            "byteLimit": 2048000,
            "rowLimit": 10000
          },
          "inputWidgets": {},
          "nuid": "ea1b490f-13f2-410b-af3c-15699a1cd425",
          "showTitle": false,
          "title": ""
        },
        "id": "su-RU_i1JR5R",
        "colab": {
          "base_uri": "https://localhost:8080/"
        },
        "outputId": "3b1e86da-69de-4f70-9a2a-7234d509cbb7"
      },
      "outputs": [
        {
          "output_type": "stream",
          "name": "stdout",
          "text": [
            "+--------+\n",
            "|Title   |\n",
            "+--------+\n",
            "|Don     |\n",
            "|Miss    |\n",
            "|Countess|\n",
            "|Officer |\n",
            "|Lady    |\n",
            "|Master  |\n",
            "|Mme     |\n",
            "|Mr      |\n",
            "|Mrs     |\n",
            "|Sir     |\n",
            "|Jonkheer|\n",
            "|Mlle    |\n",
            "|Ms      |\n",
            "+--------+\n",
            "\n"
          ]
        }
      ],
      "source": [
        "from pyspark.sql.functions import regexp_replace\n",
        "\n",
        "# Define a regular expression pattern to match the titles to be replaced\n",
        "titles_to_replace = [\"Capt\", \"Col\", \"Major\", \"Dr\", \"Rev\"]\n",
        "pattern = \"|\".join(titles_to_replace)\n",
        "\n",
        "# Replace titles in the \"Title\" column with \"Officer\"\n",
        "df = df.withColumn(\"Title\", regexp_replace(col(\"Title\"), pattern, \"Officer\"))\n",
        "\n",
        "# Show the updated DataFrame\n",
        "df.select(\"Title\").distinct().show(truncate=False)"
      ]
    },
    {
      "cell_type": "code",
      "source": [
        "from pyspark.sql.functions import regexp_replace\n",
        "\n",
        "# Define a regular expression pattern to match the additional titles to be replaced\n",
        "additional_titles_to_replace = [\"Jonkheer\", \"Don\", \"Sir\", \"Countess\", \"Dona\", \"Lady\"]\n",
        "additional_pattern = \"|\".join(additional_titles_to_replace)\n",
        "\n",
        "# Replace additional titles in the \"Title\" column with \"Noble\"\n",
        "df = df.withColumn(\"Title\", regexp_replace(col(\"Title\"), additional_pattern, \"Noble\"))\n",
        "\n",
        "# Show the updated DataFrame\n",
        "df.select(\"Title\").distinct().show(truncate=False)"
      ],
      "metadata": {
        "colab": {
          "base_uri": "https://localhost:8080/"
        },
        "id": "EhEFwMsHx5oW",
        "outputId": "13fb1d8f-6801-4812-8210-35ee1836398b"
      },
      "execution_count": null,
      "outputs": [
        {
          "output_type": "stream",
          "name": "stdout",
          "text": [
            "+-------+\n",
            "|Title  |\n",
            "+-------+\n",
            "|Miss   |\n",
            "|Officer|\n",
            "|Master |\n",
            "|Mme    |\n",
            "|Noble  |\n",
            "|Mr     |\n",
            "|Mrs    |\n",
            "|Mlle   |\n",
            "|Ms     |\n",
            "+-------+\n",
            "\n"
          ]
        }
      ]
    },
    {
      "cell_type": "code",
      "source": [
        "from pyspark.sql.functions import regexp_replace\n",
        "\n",
        "# Define a dictionary to map titles to their replacements\n",
        "title_replacements = {\n",
        "    \"Mme\": \"Mrs\",\n",
        "    \"Ms\": \"Mrs\",\n",
        "    \"Mlle\": \"Miss\"\n",
        "}\n",
        "\n",
        "# Iterate over the dictionary and replace titles in the \"Title\" column\n",
        "for old_title, new_title in title_replacements.items():\n",
        "    df = df.withColumn(\"Title\", regexp_replace(col(\"Title\"), old_title, new_title))\n",
        "\n",
        "# Show the updated DataFrame\n",
        "df.select(\"Title\").distinct().show(truncate=False)"
      ],
      "metadata": {
        "colab": {
          "base_uri": "https://localhost:8080/"
        },
        "id": "y1CvuzToDWZJ",
        "outputId": "2d7890ae-fca9-4ddf-88d8-1e57606c1991"
      },
      "execution_count": null,
      "outputs": [
        {
          "output_type": "stream",
          "name": "stdout",
          "text": [
            "+-------+\n",
            "|Title  |\n",
            "+-------+\n",
            "|Miss   |\n",
            "|Officer|\n",
            "|Master |\n",
            "|Noble  |\n",
            "|Mr     |\n",
            "|Mrs    |\n",
            "+-------+\n",
            "\n"
          ]
        }
      ]
    },
    {
      "cell_type": "code",
      "source": [
        "# 3) group by Sex, Class, and Title, and calculate the avg age for each group\n",
        "avg_age_by_group = df\\\n",
        "    .groupBy(\"Sex\", \"Pclass\", \"Title\") \\\n",
        "    .agg(F.mean(\"Age\").cast('int').alias(\"AvgAge\"))\n",
        "\n",
        "avg_age_by_group.show()"
      ],
      "metadata": {
        "colab": {
          "base_uri": "https://localhost:8080/"
        },
        "id": "tyJqEa7UyW3d",
        "outputId": "fdafc323-f5e9-479a-9b5c-bd8a730e85ba"
      },
      "execution_count": null,
      "outputs": [
        {
          "output_type": "stream",
          "name": "stdout",
          "text": [
            "+------+------+-------+------+\n",
            "|   Sex|Pclass|  Title|AvgAge|\n",
            "+------+------+-------+------+\n",
            "|  male|     1| Master|     5|\n",
            "|  male|     1|     Mr|    41|\n",
            "|  male|     2|Officer|    42|\n",
            "|  male|     2|     Mr|    32|\n",
            "|  male|     1|Officer|    51|\n",
            "|female|     3|    Mrs|    33|\n",
            "|female|     1|   Miss|    29|\n",
            "|female|     1|Officer|    49|\n",
            "|female|     2|   Miss|    22|\n",
            "|  male|     1|  Noble|    42|\n",
            "|  male|     3| Master|     5|\n",
            "|female|     3|   Miss|    16|\n",
            "|  male|     3|     Mr|    28|\n",
            "|  male|     2| Master|     2|\n",
            "|female|     1|    Mrs|    40|\n",
            "|female|     1|  Noble|    40|\n",
            "|female|     2|    Mrs|    33|\n",
            "+------+------+-------+------+\n",
            "\n"
          ]
        }
      ]
    },
    {
      "cell_type": "code",
      "source": [
        "# 4) fill missing values with corresponding AvgAge\n",
        "df_with_avg = df.join(avg_age_by_group, [\"Sex\", \"Pclass\", \"Title\"], \"left\")\n",
        "\n",
        "#Replace missing values in the 'Age' column with the AvgAge where missing\n",
        "df = df_with_avg.withColumn(\"Age\", when(col(\"Age\").isNull(), col(\"AvgAge\")).otherwise(col(\"Age\")))\n",
        "\n",
        "df = df.withColumn(\"Age\", col(\"Age\").cast(IntegerType()))\n",
        "\n",
        "df = df.drop(\"AvgAge\")\n",
        "\n",
        "#df.select(\"Age\").show()"
      ],
      "metadata": {
        "id": "40jbwKJzziQh"
      },
      "execution_count": null,
      "outputs": []
    },
    {
      "cell_type": "code",
      "source": [
        "df.filter(col('Age').isNull()).count()"
      ],
      "metadata": {
        "id": "U_-2fTmozi_o",
        "colab": {
          "base_uri": "https://localhost:8080/"
        },
        "outputId": "7a131447-2a04-4ab5-87b3-916af98f3b11"
      },
      "execution_count": null,
      "outputs": [
        {
          "output_type": "execute_result",
          "data": {
            "text/plain": [
              "0"
            ]
          },
          "metadata": {},
          "execution_count": 149
        }
      ]
    },
    {
      "cell_type": "markdown",
      "metadata": {
        "application/vnd.databricks.v1+cell": {
          "cellMetadata": {
            "byteLimit": 2048000,
            "rowLimit": 10000
          },
          "inputWidgets": {},
          "nuid": "6607098f-f9d5-46d8-ac5d-25c16904b9a7",
          "showTitle": false,
          "title": ""
        },
        "id": "zQk9JKIhJR5S"
      },
      "source": [
        "### 2.2) Managing \"Embarked\" missing values\n",
        "OPTIONS:\n",
        "- 1) Drop rows\n",
        "- 2) Impute values with most frequent embarkation"
      ]
    },
    {
      "cell_type": "code",
      "source": [
        "# Option 1\n",
        "df = df.filter(col(\"Embarked\").isNotNull())"
      ],
      "metadata": {
        "id": "jO1s_CAG9-gd"
      },
      "execution_count": null,
      "outputs": []
    },
    {
      "cell_type": "code",
      "execution_count": null,
      "metadata": {
        "application/vnd.databricks.v1+cell": {
          "cellMetadata": {
            "byteLimit": 2048000,
            "rowLimit": 10000
          },
          "inputWidgets": {},
          "nuid": "cf827282-43d8-48b3-97f8-576240f556c7",
          "showTitle": false,
          "title": ""
        },
        "id": "iAc5HHLEJR5a",
        "colab": {
          "base_uri": "https://localhost:8080/"
        },
        "outputId": "14b8d8da-116e-44a5-e169-22fa2eafdaaa"
      },
      "outputs": [
        {
          "output_type": "execute_result",
          "data": {
            "text/plain": [
              "0"
            ]
          },
          "metadata": {},
          "execution_count": 151
        }
      ],
      "source": [
        "(df.filter(col(\"Embarked\").isNull())).count()"
      ]
    },
    {
      "cell_type": "markdown",
      "metadata": {
        "application/vnd.databricks.v1+cell": {
          "cellMetadata": {
            "byteLimit": 2048000,
            "rowLimit": 10000
          },
          "inputWidgets": {},
          "nuid": "4dc4724e-7649-4680-ba56-e69b8bd56ba8",
          "showTitle": false,
          "title": ""
        },
        "id": "CJvCfhOaJR5Z"
      },
      "source": [
        "### 2.3) Managing \"Cabin\" missing values"
      ]
    },
    {
      "cell_type": "markdown",
      "metadata": {
        "application/vnd.databricks.v1+cell": {
          "cellMetadata": {
            "byteLimit": 2048000,
            "rowLimit": 10000
          },
          "inputWidgets": {},
          "nuid": "c291dbcf-175a-48dd-b733-b0013e24789e",
          "showTitle": false,
          "title": ""
        },
        "id": "YuM-d3jQJR5S"
      },
      "source": [
        "OPTIONS:\n",
        "- 1) convert 'Cabin' column into binary indicator\n",
        "    - 0 => passenger doesn't have a cabin\n",
        "    - 1 => passenger has a cabin\n",
        "- 2) cut off rows with missing values and then analise the deck (problem: too many missing values)\n",
        "- 3) Create new category (Not Available)"
      ]
    },
    {
      "cell_type": "code",
      "execution_count": null,
      "metadata": {
        "application/vnd.databricks.v1+cell": {
          "cellMetadata": {
            "byteLimit": 2048000,
            "rowLimit": 10000
          },
          "inputWidgets": {},
          "nuid": "0b35fb25-c9b3-4a17-8a77-39b61c56797a",
          "showTitle": false,
          "title": ""
        },
        "id": "WnuPCYGfJR5S"
      },
      "outputs": [],
      "source": [
        "# Option 1\n",
        "df = df.withColumn('Cabin', when(col('Cabin').isNull(), 0).otherwise(1))\n",
        "#df.select(\"Cabin\").show()"
      ]
    },
    {
      "cell_type": "code",
      "execution_count": null,
      "metadata": {
        "application/vnd.databricks.v1+cell": {
          "cellMetadata": {
            "byteLimit": 2048000,
            "rowLimit": 10000
          },
          "inputWidgets": {},
          "nuid": "9597945c-463e-4d4c-a947-fd86e1af6865",
          "showTitle": false,
          "title": ""
        },
        "id": "8h6_HmWLJR5S",
        "colab": {
          "base_uri": "https://localhost:8080/"
        },
        "outputId": "fd1b3d98-57a7-4185-bf93-07b5ba9268a3"
      },
      "outputs": [
        {
          "output_type": "execute_result",
          "data": {
            "text/plain": [
              "0"
            ]
          },
          "metadata": {},
          "execution_count": 153
        }
      ],
      "source": [
        "(df.filter(col(\"Cabin\").isNull())).count()"
      ]
    },
    {
      "cell_type": "markdown",
      "source": [
        "### 2.4) Fare modeling\n",
        "\n",
        "To treat the outliers in Fare i decided to replace values above 500 (definetly too high) with the next highest values, in order to have really high fare, which is still telling us that those passegers were wealthy and were probably in first class"
      ],
      "metadata": {
        "id": "APJDVaCsoY6x"
      }
    },
    {
      "cell_type": "code",
      "source": [
        "# Replace values above 200 in the \"Fare\" column with 150\n",
        "df = df.withColumn(\"Fare\", when(col(\"Fare\") > 200, 150).otherwise(col(\"Fare\")))\n",
        "\n",
        "#df.select(\"Fare\").show()"
      ],
      "metadata": {
        "id": "veORx2LCpDxu"
      },
      "execution_count": null,
      "outputs": []
    },
    {
      "cell_type": "code",
      "source": [
        "# Filter data for survivors and casualties\n",
        "survivors_fare = df.filter(col(\"Survived\") == \"1\").select(\"Fare\").collect()\n",
        "casualties_fare = df.filter(col(\"Survived\") == \"0\").select(\"Fare\").collect()\n",
        "\n",
        "# Extract fares from Row objects\n",
        "survivors_fare = [row.Fare for row in survivors_fare if row.Fare is not None]\n",
        "casualties_fare = [row.Fare for row in casualties_fare if row.Fare is not None]\n",
        "\n",
        "# Prepare data for box plots\n",
        "data = [survivors_fare, casualties_fare]\n",
        "labels = ['Survivors', 'Casualties']\n",
        "\n",
        "# Create box plots\n",
        "plt.figure(figsize=(8, 6))\n",
        "plt.boxplot(data, labels=labels, patch_artist=True, showmeans=True)\n",
        "plt.xlabel('Passenger Status')\n",
        "plt.ylabel('Fare')\n",
        "plt.title('Box Plot of Fare for Survivors and Casualties')\n",
        "plt.grid(axis='y', linestyle='--', alpha=0.7)\n",
        "plt.show()"
      ],
      "metadata": {
        "id": "asXOjbMIo945",
        "colab": {
          "base_uri": "https://localhost:8080/",
          "height": 564
        },
        "outputId": "e09cb716-f976-43c9-a7f9-6dc972804b9c"
      },
      "execution_count": null,
      "outputs": [
        {
          "output_type": "display_data",
          "data": {
            "text/plain": [
              "<Figure size 800x600 with 1 Axes>"
            ],
            "image/png": "[encoded data removed]"
          },
          "metadata": {}
        }
      ]
    },
    {
      "cell_type": "code",
      "source": [
        "# Extract fares from the DataFrame\n",
        "fares = df.select(\"Fare\").rdd.flatMap(lambda x: x).collect()\n",
        "\n",
        "# Plot histogram\n",
        "plt.figure(figsize=(8, 6))\n",
        "plt.hist(fares, bins=20, color='skyblue', edgecolor='black')\n",
        "plt.xlabel('Fare')\n",
        "plt.ylabel('Frequency')\n",
        "plt.title('Distribution of Fare')\n",
        "plt.grid(axis='y', linestyle='--', alpha=0.7)\n",
        "plt.show()"
      ],
      "metadata": {
        "id": "y6lVGB5Zo57x",
        "colab": {
          "base_uri": "https://localhost:8080/",
          "height": 564
        },
        "outputId": "bf8ba211-08a8-4e85-a2d0-81d3cb19c01f"
      },
      "execution_count": null,
      "outputs": [
        {
          "output_type": "display_data",
          "data": {
            "text/plain": [
              "<Figure size 800x600 with 1 Axes>"
            ],
            "image/png": "[encoded data removed]"
          },
          "metadata": {}
        }
      ]
    },
    {
      "cell_type": "code",
      "source": [
        "from pyspark.sql.functions import format_number\n",
        "\n",
        "# Clean the \"Fare\" column to have two decimal places\n",
        "df = df.withColumn(\"Fare\", format_number(col(\"Fare\"), 2))\n",
        "\n",
        "# Show the cleaned \"Fare\" column\n",
        "df.select(\"Fare\").show()"
      ],
      "metadata": {
        "id": "iVvJms5RogqX",
        "colab": {
          "base_uri": "https://localhost:8080/"
        },
        "outputId": "47fc53f1-a2e9-49dc-ec74-464461ff1cdb"
      },
      "execution_count": null,
      "outputs": [
        {
          "output_type": "stream",
          "name": "stdout",
          "text": [
            "+-----+\n",
            "| Fare|\n",
            "+-----+\n",
            "| 7.25|\n",
            "|71.28|\n",
            "| 7.92|\n",
            "|53.10|\n",
            "| 8.05|\n",
            "| 8.46|\n",
            "|51.86|\n",
            "|21.07|\n",
            "|11.13|\n",
            "|30.07|\n",
            "|16.70|\n",
            "|26.55|\n",
            "| 8.05|\n",
            "|31.27|\n",
            "| 7.85|\n",
            "|16.00|\n",
            "|29.12|\n",
            "|13.00|\n",
            "|18.00|\n",
            "| 7.22|\n",
            "+-----+\n",
            "only showing top 20 rows\n",
            "\n"
          ]
        }
      ]
    },
    {
      "cell_type": "code",
      "source": [
        "from pyspark.sql.functions import col\n",
        "\n",
        "# Convert \"Fare\" column from string to float\n",
        "df = df.withColumn(\"Fare\", col(\"Fare\").cast(\"float\"))"
      ],
      "metadata": {
        "id": "o_GzXUqUFMNA"
      },
      "execution_count": null,
      "outputs": []
    },
    {
      "cell_type": "markdown",
      "metadata": {
        "application/vnd.databricks.v1+cell": {
          "cellMetadata": {
            "byteLimit": 2048000,
            "rowLimit": 10000
          },
          "inputWidgets": {},
          "nuid": "931155b5-942f-48db-bdb7-8ea7f008b5e1",
          "showTitle": false,
          "title": ""
        },
        "id": "osUgXu9KJR5d"
      },
      "source": [
        "## 3) Modeling"
      ]
    },
    {
      "cell_type": "markdown",
      "metadata": {
        "application/vnd.databricks.v1+cell": {
          "cellMetadata": {
            "byteLimit": 2048000,
            "rowLimit": 10000
          },
          "inputWidgets": {},
          "nuid": "fcca8305-54d3-405a-a073-6d67c61bb036",
          "showTitle": false,
          "title": ""
        },
        "id": "SJFlR3pEJR5d"
      },
      "source": [
        "### 3.1) Feature engineering"
      ]
    },
    {
      "cell_type": "markdown",
      "metadata": {
        "application/vnd.databricks.v1+cell": {
          "cellMetadata": {
            "byteLimit": 2048000,
            "rowLimit": 10000
          },
          "inputWidgets": {},
          "nuid": "9b25976d-8c08-4fc6-8749-608dad848de0",
          "showTitle": false,
          "title": ""
        },
        "id": "YzbnayQoJR5d"
      },
      "source": [
        "#### 3.1.1) AgeCategory"
      ]
    },
    {
      "cell_type": "code",
      "execution_count": null,
      "metadata": {
        "application/vnd.databricks.v1+cell": {
          "cellMetadata": {
            "byteLimit": 2048000,
            "rowLimit": 10000
          },
          "inputWidgets": {},
          "nuid": "828d390f-d1c5-4b8a-a3da-a58cb7d40ace",
          "showTitle": false,
          "title": ""
        },
        "id": "oJDAdD0DJR5d"
      },
      "outputs": [],
      "source": [
        "df = df.withColumn(\"AgeCategory\",\n",
        "    F.when(df['Age'] <= 17, 0)\n",
        "    .when((df['Age'] > 17) & (df['Age'] <= 32), 1)\n",
        "    .when((df['Age'] > 32) & (df['Age'] <= 48), 2)\n",
        "    .when((df['Age'] > 48) & (df['Age'] <= 64), 3)\n",
        "    .otherwise(4)\n",
        ")"
      ]
    },
    {
      "cell_type": "markdown",
      "metadata": {
        "application/vnd.databricks.v1+cell": {
          "cellMetadata": {
            "byteLimit": 2048000,
            "rowLimit": 10000
          },
          "inputWidgets": {},
          "nuid": "45a56e25-c0ee-4e97-9f0c-1561328362bd",
          "showTitle": false,
          "title": ""
        },
        "id": "EZSFQPzTJR5d"
      },
      "source": [
        "#### 3.1.2) Sex\n",
        "Convert categorical features into numerical\n",
        "- Sex:\n",
        "  - male = 1,\n",
        "  - female = 2"
      ]
    },
    {
      "cell_type": "code",
      "execution_count": null,
      "metadata": {
        "application/vnd.databricks.v1+cell": {
          "cellMetadata": {
            "byteLimit": 2048000,
            "rowLimit": 10000
          },
          "inputWidgets": {},
          "nuid": "9d3a272e-9f4d-412e-b2fb-28967969bcf5",
          "showTitle": false,
          "title": ""
        },
        "id": "oRKpv7a9JR5d"
      },
      "outputs": [],
      "source": [
        "df = df.withColumn(\"Sex\", when(df[\"Sex\"] == \"male\", 1).otherwise(2))"
      ]
    },
    {
      "cell_type": "markdown",
      "metadata": {
        "application/vnd.databricks.v1+cell": {
          "cellMetadata": {
            "byteLimit": 2048000,
            "rowLimit": 10000
          },
          "inputWidgets": {},
          "nuid": "b5ffe7da-c350-47de-b92b-618e550917ca",
          "showTitle": false,
          "title": ""
        },
        "id": "IO9romL6JR5d"
      },
      "source": [
        "#### 3.1.3) Embarked\n",
        "Convert categorical features into numerical\n",
        "- Embarked:\n",
        "  - C = 1,\n",
        "  - Q = 2,\n",
        "  - S = 3"
      ]
    },
    {
      "cell_type": "code",
      "execution_count": null,
      "metadata": {
        "application/vnd.databricks.v1+cell": {
          "cellMetadata": {
            "byteLimit": 2048000,
            "rowLimit": 10000
          },
          "inputWidgets": {},
          "nuid": "d2c1257d-90b4-4783-b4fe-816238148fb8",
          "showTitle": false,
          "title": ""
        },
        "id": "5ePCPhihJR5e"
      },
      "outputs": [],
      "source": [
        "df = df.withColumn(\"Embarked\", when(df[\"Embarked\"] == \"C\", 1).when(df[\"Embarked\"] == \"Q\", 2).otherwise(3))"
      ]
    },
    {
      "cell_type": "markdown",
      "source": [
        "#### 3.1.4) Final dataset"
      ],
      "metadata": {
        "id": "75-vEWdZFVe1"
      }
    },
    {
      "cell_type": "code",
      "execution_count": null,
      "metadata": {
        "application/vnd.databricks.v1+cell": {
          "cellMetadata": {
            "byteLimit": 2048000,
            "rowLimit": 10000
          },
          "inputWidgets": {},
          "nuid": "cc86d6e7-6722-4115-9ded-09007b3e68ec",
          "showTitle": false,
          "title": ""
        },
        "id": "r0WALEwVJR5e"
      },
      "outputs": [],
      "source": [
        "df=df.drop('PassengerId','Name','Ticket','Title','Age')"
      ]
    },
    {
      "cell_type": "code",
      "source": [
        "df.cache()"
      ],
      "metadata": {
        "colab": {
          "base_uri": "https://localhost:8080/"
        },
        "id": "n5XU61Zk_sEe",
        "outputId": "f7106879-2e18-43cd-f6a1-823dc6032c7f"
      },
      "execution_count": null,
      "outputs": [
        {
          "output_type": "execute_result",
          "data": {
            "text/plain": [
              "DataFrame[Sex: int, Pclass: int, Survived: int, SibSp: int, Parch: int, Fare: float, Cabin: int, Embarked: int, AgeCategory: int]"
            ]
          },
          "metadata": {},
          "execution_count": 24
        }
      ]
    },
    {
      "cell_type": "markdown",
      "metadata": {
        "application/vnd.databricks.v1+cell": {
          "cellMetadata": {
            "byteLimit": 2048000,
            "rowLimit": 10000
          },
          "inputWidgets": {},
          "nuid": "beec9ca7-a272-4104-853b-a50535c474c4",
          "showTitle": false,
          "title": ""
        },
        "id": "ZfYKDU9IJR5e"
      },
      "source": [
        "Let's see how it looks!"
      ]
    },
    {
      "cell_type": "code",
      "execution_count": null,
      "metadata": {
        "application/vnd.databricks.v1+cell": {
          "cellMetadata": {
            "byteLimit": 2048000,
            "rowLimit": 10000
          },
          "inputWidgets": {},
          "nuid": "d68776fa-816b-4534-a474-acde4da1ad38",
          "showTitle": false,
          "title": ""
        },
        "id": "fd9JBChwJR5e",
        "outputId": "5c380707-fb91-4dc6-e7aa-7285510d8e7d",
        "colab": {
          "base_uri": "https://localhost:8080/"
        }
      },
      "outputs": [
        {
          "output_type": "stream",
          "name": "stdout",
          "text": [
            "root\n",
            " |-- Sex: integer (nullable = false)\n",
            " |-- Pclass: integer (nullable = true)\n",
            " |-- Survived: integer (nullable = true)\n",
            " |-- SibSp: integer (nullable = true)\n",
            " |-- Parch: integer (nullable = true)\n",
            " |-- Fare: float (nullable = true)\n",
            " |-- Cabin: integer (nullable = false)\n",
            " |-- Embarked: integer (nullable = false)\n",
            " |-- AgeCategory: integer (nullable = false)\n",
            "\n"
          ]
        }
      ],
      "source": [
        "df.printSchema()"
      ]
    },
    {
      "cell_type": "code",
      "execution_count": null,
      "metadata": {
        "application/vnd.databricks.v1+cell": {
          "cellMetadata": {
            "byteLimit": 2048000,
            "rowLimit": 10000
          },
          "inputWidgets": {},
          "nuid": "f63e6f08-0a03-4129-b1cb-1254a1c638d2",
          "showTitle": false,
          "title": ""
        },
        "id": "BQLCw2DmJR5e",
        "colab": {
          "base_uri": "https://localhost:8080/"
        },
        "outputId": "9c47f69c-2a30-4326-ed1f-42dc1c8b539f"
      },
      "outputs": [
        {
          "output_type": "stream",
          "name": "stdout",
          "text": [
            "+---+------+--------+-----+-----+-----+-----+--------+-----------+\n",
            "|Sex|Pclass|Survived|SibSp|Parch| Fare|Cabin|Embarked|AgeCategory|\n",
            "+---+------+--------+-----+-----+-----+-----+--------+-----------+\n",
            "|  1|     3|       0|    1|    0| 7.25|    0|       3|          1|\n",
            "|  2|     1|       1|    1|    0|71.28|    1|       1|          2|\n",
            "|  2|     3|       1|    0|    0| 7.92|    0|       3|          1|\n",
            "|  2|     1|       1|    1|    0| 53.1|    1|       3|          2|\n",
            "|  1|     3|       0|    0|    0| 8.05|    0|       3|          2|\n",
            "|  1|     3|       0|    0|    0| 8.46|    0|       2|          1|\n",
            "|  1|     1|       0|    0|    0|51.86|    1|       3|          3|\n",
            "|  1|     3|       0|    3|    1|21.07|    0|       3|          0|\n",
            "|  2|     3|       1|    0|    2|11.13|    0|       3|          1|\n",
            "|  2|     2|       1|    1|    0|30.07|    0|       1|          0|\n",
            "|  2|     3|       1|    1|    1| 16.7|    1|       3|          0|\n",
            "|  2|     1|       1|    0|    0|26.55|    1|       3|          3|\n",
            "|  1|     3|       0|    0|    0| 8.05|    0|       3|          1|\n",
            "|  1|     3|       0|    1|    5|31.27|    0|       3|          2|\n",
            "|  2|     3|       0|    0|    0| 7.85|    0|       3|          0|\n",
            "|  2|     2|       1|    0|    0| 16.0|    0|       3|          3|\n",
            "|  1|     3|       0|    4|    1|29.12|    0|       2|          0|\n",
            "|  1|     2|       1|    0|    0| 13.0|    0|       3|          1|\n",
            "|  2|     3|       0|    1|    0| 18.0|    0|       3|          1|\n",
            "|  2|     3|       1|    0|    0| 7.22|    0|       1|          2|\n",
            "+---+------+--------+-----+-----+-----+-----+--------+-----------+\n",
            "only showing top 20 rows\n",
            "\n"
          ]
        }
      ],
      "source": [
        "df.show(20)"
      ]
    },
    {
      "cell_type": "markdown",
      "metadata": {
        "application/vnd.databricks.v1+cell": {
          "cellMetadata": {
            "byteLimit": 2048000,
            "rowLimit": 10000
          },
          "inputWidgets": {},
          "nuid": "cfee7e5c-46cc-4b90-b80b-f866276f7da2",
          "showTitle": false,
          "title": ""
        },
        "id": "hGUTiZiQJR5e"
      },
      "source": [
        "### 3.2) Models\n",
        "Let's transform the features into a vector format using PySpark's VectorAssembler"
      ]
    },
    {
      "cell_type": "code",
      "execution_count": null,
      "metadata": {
        "application/vnd.databricks.v1+cell": {
          "cellMetadata": {
            "byteLimit": 2048000,
            "rowLimit": 10000
          },
          "inputWidgets": {},
          "nuid": "09846497-b0a2-4e95-a3b9-622b2421d595",
          "showTitle": false,
          "title": ""
        },
        "id": "oclllYTXJR5e"
      },
      "outputs": [],
      "source": [
        "# PySPark Libraries\n",
        "from pyspark.mllib.linalg import Vectors\n",
        "from pyspark.ml.feature import VectorAssembler\n",
        "from pyspark.ml.feature import StringIndexer\n",
        "from pyspark.ml import Pipeline\n",
        "from pyspark.ml.tuning import ParamGridBuilder, CrossValidator\n",
        "from pyspark.ml.evaluation import BinaryClassificationEvaluator\n",
        "from pyspark.ml.classification import LogisticRegression\n",
        "from pyspark.ml.classification import LinearSVC\n",
        "from pyspark.ml.classification import DecisionTreeClassifier\n",
        "from pyspark.ml.classification import RandomForestClassifier\n",
        "from pyspark.ml.classification import MultilayerPerceptronClassifier\n",
        "from pyspark.ml.evaluation import MulticlassClassificationEvaluator"
      ]
    },
    {
      "cell_type": "code",
      "execution_count": null,
      "metadata": {
        "application/vnd.databricks.v1+cell": {
          "cellMetadata": {
            "byteLimit": 2048000,
            "rowLimit": 10000
          },
          "inputWidgets": {},
          "nuid": "f3d26830-ce04-4419-8474-8a0ad4684d26",
          "showTitle": false,
          "title": ""
        },
        "id": "wdjaXcfzJR5e"
      },
      "outputs": [],
      "source": [
        "assembler = VectorAssembler(\n",
        "  inputCols = ['Pclass', 'Sex','SibSp','Fare', 'Parch' ,'Embarked', 'Cabin','AgeCategory'],\n",
        "  outputCol=\"features\"\n",
        ")"
      ]
    },
    {
      "cell_type": "code",
      "execution_count": null,
      "metadata": {
        "application/vnd.databricks.v1+cell": {
          "cellMetadata": {
            "byteLimit": 2048000,
            "rowLimit": 10000
          },
          "inputWidgets": {},
          "nuid": "83e90d10-6307-4dec-9d4d-d59011e2b0f7",
          "showTitle": false,
          "title": ""
        },
        "id": "T2Esj-NMJR5e"
      },
      "outputs": [],
      "source": [
        "test_size = 0.2\n",
        "test_seed = 2024\n",
        "train_data, test_data = df.randomSplit([1-test_size,test_size],seed=test_seed)"
      ]
    },
    {
      "cell_type": "code",
      "execution_count": null,
      "metadata": {
        "application/vnd.databricks.v1+cell": {
          "cellMetadata": {
            "byteLimit": 2048000,
            "rowLimit": 10000
          },
          "inputWidgets": {},
          "nuid": "6ecab4d5-7290-4320-acac-a649e5871db0",
          "showTitle": false,
          "title": ""
        },
        "id": "SWUa7xQDJR5e",
        "colab": {
          "base_uri": "https://localhost:8080/",
          "height": 35
        },
        "outputId": "4dbb09f0-4e98-4e6d-ea5d-85885ea433ca"
      },
      "outputs": [
        {
          "output_type": "execute_result",
          "data": {
            "text/plain": [
              "'\\ntrain_data.printSchema()\\ntrain_data.show()\\ntrain_data.describe().show()\\n'"
            ],
            "application/vnd.google.colaboratory.intrinsic+json": {
              "type": "string"
            }
          },
          "metadata": {},
          "execution_count": 177
        }
      ],
      "source": [
        "'''\n",
        "train_data.printSchema()\n",
        "train_data.show()\n",
        "train_data.describe().show()\n",
        "'''"
      ]
    },
    {
      "cell_type": "code",
      "execution_count": null,
      "metadata": {
        "application/vnd.databricks.v1+cell": {
          "cellMetadata": {
            "byteLimit": 2048000,
            "rowLimit": 10000
          },
          "inputWidgets": {},
          "nuid": "bfbcaa6a-8f21-4782-9971-8eacb3ce2497",
          "showTitle": false,
          "title": ""
        },
        "id": "VRuAHGNGJR5e"
      },
      "outputs": [],
      "source": [
        "pipeline1 = Pipeline(stages=[assembler])"
      ]
    },
    {
      "cell_type": "code",
      "execution_count": null,
      "metadata": {
        "application/vnd.databricks.v1+cell": {
          "cellMetadata": {
            "byteLimit": 2048000,
            "rowLimit": 10000
          },
          "inputWidgets": {},
          "nuid": "c36d3b5e-9b0c-4027-a129-54b9172bfbdc",
          "showTitle": false,
          "title": ""
        },
        "id": "u22Gxd6uJR5e"
      },
      "outputs": [],
      "source": [
        "evaluator = BinaryClassificationEvaluator(labelCol=\"Survived\")\n",
        "\n",
        "def getCrossValidator(estimator, params, folds):\n",
        "  return CrossValidator(\n",
        "      estimator=estimator,\n",
        "      estimatorParamMaps=params,\n",
        "      evaluator=evaluator,\n",
        "      numFolds=folds,\n",
        "      seed=101\n",
        "  )"
      ]
    },
    {
      "cell_type": "markdown",
      "metadata": {
        "application/vnd.databricks.v1+cell": {
          "cellMetadata": {
            "byteLimit": 2048000,
            "rowLimit": 10000
          },
          "inputWidgets": {},
          "nuid": "bd13ad50-c1a3-4cb0-909f-245da6308bf0",
          "showTitle": false,
          "title": ""
        },
        "id": "azoALtZEJR5f"
      },
      "source": [
        "#### 3.3.1) Logistic Regression"
      ]
    },
    {
      "cell_type": "code",
      "execution_count": null,
      "metadata": {
        "application/vnd.databricks.v1+cell": {
          "cellMetadata": {
            "byteLimit": 2048000,
            "rowLimit": 10000
          },
          "inputWidgets": {},
          "nuid": "e734d1eb-1526-4ae0-9ba3-a2f10b3bf192",
          "showTitle": false,
          "title": ""
        },
        "id": "18hFUarAJR5f",
        "colab": {
          "base_uri": "https://localhost:8080/"
        },
        "outputId": "5cce1cde-0e6a-4d38-f409-4fb8814d32eb"
      },
      "outputs": [
        {
          "output_type": "stream",
          "name": "stdout",
          "text": [
            "Best regularization parameter (regParam): 0.1\n",
            "Best elastic net parameter (elasticNetParam): 0.01\n"
          ]
        }
      ],
      "source": [
        "lr = LogisticRegression(\n",
        "    featuresCol=\"features\",\n",
        "    labelCol=\"Survived\"\n",
        ")\n",
        "\n",
        "lr_hp_grid = ParamGridBuilder()\\\n",
        "    .addGrid(lr.regParam, [0.1, 0.01])\\\n",
        "    .addGrid(lr.elasticNetParam, [0.01 ,0.1, 0.5])\\\n",
        "    .build()\n",
        "\n",
        "pipeline_lr = Pipeline(stages=[pipeline1, getCrossValidator(lr, lr_hp_grid, 3)])\n",
        "\n",
        "model_lr = pipeline_lr.fit(train_data)\n",
        "\n",
        "# best model\n",
        "best_lr_model = model_lr.stages[-1].bestModel\n",
        "print(\"Best regularization parameter (regParam):\", best_lr_model._java_obj.getRegParam())\n",
        "print(\"Best elastic net parameter (elasticNetParam):\", best_lr_model._java_obj.getElasticNetParam())"
      ]
    },
    {
      "cell_type": "code",
      "execution_count": null,
      "metadata": {
        "application/vnd.databricks.v1+cell": {
          "cellMetadata": {
            "byteLimit": 2048000,
            "rowLimit": 10000
          },
          "inputWidgets": {},
          "nuid": "58cb316b-0999-40ee-9707-1be886f05b47",
          "showTitle": false,
          "title": ""
        },
        "id": "I5ENGxKZJR5f"
      },
      "outputs": [],
      "source": [
        "# lr with best parameters\n",
        "best_lr_model = LogisticRegression(\n",
        "    featuresCol=\"features\",\n",
        "    labelCol=\"Survived\",\n",
        "    regParam=best_lr_model._java_obj.getRegParam(),\n",
        "    elasticNetParam=best_lr_model._java_obj.getElasticNetParam()\n",
        ")\n",
        "\n",
        "pipeline_best_lr = Pipeline(stages=[pipeline1, best_lr_model])\n",
        "\n",
        "model1 = pipeline_best_lr.fit(train_data)"
      ]
    },
    {
      "cell_type": "markdown",
      "metadata": {
        "application/vnd.databricks.v1+cell": {
          "cellMetadata": {
            "byteLimit": 2048000,
            "rowLimit": 10000
          },
          "inputWidgets": {},
          "nuid": "bd13ad50-c1a3-4cb0-909f-245da6308bf0",
          "showTitle": false,
          "title": ""
        },
        "id": "kEQu1NcuRCS7"
      },
      "source": [
        "#### 3.3.2) Linear SVC"
      ]
    },
    {
      "cell_type": "code",
      "source": [
        "'''\n",
        "# increments spark memory\n",
        "from pyspark.sql import SparkSession\n",
        "\n",
        "# Imposta la configurazione Spark per la memoria del driver\n",
        "spark = SparkSession.builder \\\n",
        "    .appName(\"MyApp\") \\\n",
        "    .config(\"spark.driver.memory\", \"4g\") \\\n",
        "    .getOrCreate()\n",
        "'''"
      ],
      "metadata": {
        "id": "gb4l6c8wD8G2"
      },
      "execution_count": null,
      "outputs": []
    },
    {
      "cell_type": "code",
      "execution_count": null,
      "metadata": {
        "application/vnd.databricks.v1+cell": {
          "cellMetadata": {
            "byteLimit": 2048000,
            "rowLimit": 10000
          },
          "inputWidgets": {},
          "nuid": "e734d1eb-1526-4ae0-9ba3-a2f10b3bf192",
          "showTitle": false,
          "title": ""
        },
        "id": "FyA5bXlNRCTI",
        "colab": {
          "base_uri": "https://localhost:8080/",
          "height": 103
        },
        "outputId": "f54a9e92-1250-4518-e43b-71a1951fccff"
      },
      "outputs": [
        {
          "output_type": "stream",
          "name": "stdout",
          "text": [
            "Best max iteration: 5\n",
            "Best regularization parameter: 0.3\n"
          ]
        },
        {
          "output_type": "execute_result",
          "data": {
            "text/plain": [
              "'\\nbest_params = best_lsvc_model.stages[-1].extractParamMap()\\nprint(\"Best Parameters:\")\\nfor param, value in best_params.items():\\n    print(param.name, \":\", value)\\n'"
            ],
            "application/vnd.google.colaboratory.intrinsic+json": {
              "type": "string"
            }
          },
          "metadata": {},
          "execution_count": 199
        }
      ],
      "source": [
        "lsvc = LinearSVC(\n",
        "    featuresCol=\"features\",\n",
        "    labelCol=\"Survived\"\n",
        ")\n",
        "\n",
        "lsvc_hp_grid = ParamGridBuilder()\\\n",
        "    .addGrid(lsvc.maxIter, [5, 25, 50])\\\n",
        "    .addGrid(lsvc.regParam, [0.1, 0.3, 1.6])\\\n",
        "    .addGrid(lsvc.fitIntercept, [True, False])\\\n",
        "    .build()\n",
        "\n",
        "pipeline_lsvc = Pipeline(stages=[pipeline1, getCrossValidator(lsvc, lsvc_hp_grid, 3)])\n",
        "\n",
        "model_lsvc = pipeline_lsvc.fit(train_data)\n",
        "\n",
        "# best model\n",
        "best_lsvc_model = model_lsvc.stages[-1].bestModel\n",
        "print(\"Best max iteration:\", best_lsvc_model.getMaxIter())\n",
        "print(\"Best regularization parameter:\", best_lsvc_model.getRegParam())\n",
        "\n",
        "'''\n",
        "best_params = best_lsvc_model.stages[-1].extractParamMap()\n",
        "print(\"Best Parameters:\")\n",
        "for param, value in best_params.items():\n",
        "    print(param.name, \":\", value)\n",
        "'''"
      ]
    },
    {
      "cell_type": "code",
      "source": [
        "# lsvc with best parameters\n",
        "best_pipeline_lsvc = Pipeline(stages=[pipeline1, best_lsvc_model])\n",
        "model2 = best_pipeline_lsvc.fit(train_data)"
      ],
      "metadata": {
        "id": "CmglOeYsaS4Q"
      },
      "execution_count": null,
      "outputs": []
    },
    {
      "cell_type": "code",
      "execution_count": null,
      "metadata": {
        "application/vnd.databricks.v1+cell": {
          "cellMetadata": {
            "byteLimit": 2048000,
            "rowLimit": 10000
          },
          "inputWidgets": {},
          "nuid": "58cb316b-0999-40ee-9707-1be886f05b47",
          "showTitle": false,
          "title": ""
        },
        "id": "mk-9ZPhHRCTI"
      },
      "outputs": [],
      "source": [
        "'''\n",
        "best_lsvc_model = LinearSVC(\n",
        "    featuresCol=\"features\",\n",
        "    labelCol=\"Survived\",\n",
        "    maxIter=best_lsvc_model._java_obj.getMaxIterParam()\n",
        "    regParam=best_lsvc_model._java_obj.getRegParam()\n",
        ")\n",
        "\n",
        "pipeline_best_lsvc = Pipeline(stages=[pipeline1, best_lsvc_model])\n",
        "\n",
        "model2 = pipeline_best_lsvc.fit(train_data)\n",
        "'''"
      ]
    },
    {
      "cell_type": "markdown",
      "metadata": {
        "application/vnd.databricks.v1+cell": {
          "cellMetadata": {
            "byteLimit": 2048000,
            "rowLimit": 10000
          },
          "inputWidgets": {},
          "nuid": "07da538c-d4ce-468f-b493-fe3555eb277b",
          "showTitle": false,
          "title": ""
        },
        "id": "ZkFRykixJR5f"
      },
      "source": [
        "#### 3.3.3) Decision Tree Classifier"
      ]
    },
    {
      "cell_type": "code",
      "execution_count": null,
      "metadata": {
        "application/vnd.databricks.v1+cell": {
          "cellMetadata": {
            "byteLimit": 2048000,
            "rowLimit": 10000
          },
          "inputWidgets": {},
          "nuid": "ec9c32d2-abb3-4462-b4d1-050a5da23ad2",
          "showTitle": false,
          "title": ""
        },
        "id": "-IFAUKc6JR5f",
        "colab": {
          "base_uri": "https://localhost:8080/"
        },
        "outputId": "0b2a20ae-bdaa-4b10-a17b-4e6c056d7bd1"
      },
      "outputs": [
        {
          "output_type": "stream",
          "name": "stdout",
          "text": [
            "Best max depth: 15\n",
            "Best max bins: 64\n",
            "Best min instances per node: 1\n",
            "Best impurity: gini\n"
          ]
        }
      ],
      "source": [
        "dt = DecisionTreeClassifier(labelCol=\"Survived\")\n",
        "\n",
        "dt_hp_grid = ParamGridBuilder() \\\n",
        "    .addGrid(dt.maxDepth, [5, 10, 15]) \\\n",
        "    .addGrid(dt.maxBins, [32, 64]) \\\n",
        "    .addGrid(dt.minInstancesPerNode, [1, 5, 10]) \\\n",
        "    .addGrid(dt.impurity, ['gini', 'entropy']) \\\n",
        "    .build()\n",
        "\n",
        "pipeline_dt = Pipeline(stages=[pipeline1, getCrossValidator(dt, dt_hp_grid, 3)])\n",
        "\n",
        "model_dt = pipeline_dt.fit(train_data)\n",
        "\n",
        "# best model\n",
        "best_dt_model = model_dt.stages[-1].bestModel\n",
        "print(\"Best max depth:\", best_dt_model.getMaxDepth())\n",
        "print(\"Best max bins:\", best_dt_model.getMaxBins())\n",
        "print(\"Best min instances per node:\", best_dt_model.getMinInstancesPerNode())\n",
        "print(\"Best impurity:\", best_dt_model.getImpurity())"
      ]
    },
    {
      "cell_type": "code",
      "execution_count": null,
      "metadata": {
        "application/vnd.databricks.v1+cell": {
          "cellMetadata": {
            "byteLimit": 2048000,
            "rowLimit": 10000
          },
          "inputWidgets": {},
          "nuid": "ca452de8-59a9-42ed-9dc3-feb44475b742",
          "showTitle": false,
          "title": ""
        },
        "id": "zY1s277tJR5f"
      },
      "outputs": [],
      "source": [
        "best_pipeline_dt = Pipeline(stages=[pipeline1, best_dt_model])\n",
        "model3 = best_pipeline_dt.fit(train_data)"
      ]
    },
    {
      "cell_type": "markdown",
      "metadata": {
        "application/vnd.databricks.v1+cell": {
          "cellMetadata": {
            "byteLimit": 2048000,
            "rowLimit": 10000
          },
          "inputWidgets": {},
          "nuid": "07da538c-d4ce-468f-b493-fe3555eb277b",
          "showTitle": false,
          "title": ""
        },
        "id": "YPCqmd_-Rjxb"
      },
      "source": [
        "#### 3.3.4) Random Forest"
      ]
    },
    {
      "cell_type": "code",
      "execution_count": null,
      "metadata": {
        "application/vnd.databricks.v1+cell": {
          "cellMetadata": {
            "byteLimit": 2048000,
            "rowLimit": 10000
          },
          "inputWidgets": {},
          "nuid": "ec9c32d2-abb3-4462-b4d1-050a5da23ad2",
          "showTitle": false,
          "title": ""
        },
        "id": "q03HL-BGRjxk",
        "colab": {
          "base_uri": "https://localhost:8080/"
        },
        "outputId": "738a3f8f-f0f0-460c-cc07-f84d4b6b64dd"
      },
      "outputs": [
        {
          "output_type": "stream",
          "name": "stdout",
          "text": [
            "Best number of trees: 50\n",
            "Best max depth: 30\n"
          ]
        }
      ],
      "source": [
        "rf = RandomForestClassifier(\n",
        "    labelCol=\"Survived\"\n",
        ")\n",
        "\n",
        "rf_hp_grid = ParamGridBuilder() \\\n",
        "    .addGrid(rf.numTrees, [50]) \\\n",
        "    .addGrid(rf.maxDepth, [30]) \\\n",
        "    .addGrid(rf.minInstancesPerNode, [1, 5]) \\\n",
        "    .addGrid(rf.maxBins, [64]) \\\n",
        "    .addGrid(rf.minInfoGain, [0.0, 0.1]) \\\n",
        "    .build()\n",
        "\n",
        "pipeline_rf = Pipeline(stages=[pipeline1, getCrossValidator(rf, rf_hp_grid, 5)])\n",
        "\n",
        "model_rf = pipeline_rf.fit(train_data)\n",
        "\n",
        "# best model\n",
        "best_rf_model = model_rf.stages[-1].bestModel\n",
        "print(\"Best number of trees:\", best_rf_model.getNumTrees)\n",
        "print(\"Best max depth:\", best_rf_model.getMaxDepth())"
      ]
    },
    {
      "cell_type": "code",
      "execution_count": null,
      "metadata": {
        "application/vnd.databricks.v1+cell": {
          "cellMetadata": {
            "byteLimit": 2048000,
            "rowLimit": 10000
          },
          "inputWidgets": {},
          "nuid": "ca452de8-59a9-42ed-9dc3-feb44475b742",
          "showTitle": false,
          "title": ""
        },
        "id": "wSCC1k2pRjxl"
      },
      "outputs": [],
      "source": [
        "best_pipeline_rf = Pipeline(stages=[pipeline1, best_rf_model])\n",
        "model4 = best_pipeline_rf.fit(train_data)"
      ]
    },
    {
      "cell_type": "markdown",
      "metadata": {
        "application/vnd.databricks.v1+cell": {
          "cellMetadata": {
            "byteLimit": 2048000,
            "rowLimit": 10000
          },
          "inputWidgets": {},
          "nuid": "09e0c00c-cfa2-4021-9e18-7f5e2d74bdb3",
          "showTitle": false,
          "title": ""
        },
        "id": "xmBF99YKJR5f"
      },
      "source": [
        "#### 3.3.5) Multilayer Perceptron Classifier"
      ]
    },
    {
      "cell_type": "code",
      "execution_count": null,
      "metadata": {
        "application/vnd.databricks.v1+cell": {
          "cellMetadata": {
            "byteLimit": 2048000,
            "rowLimit": 10000
          },
          "inputWidgets": {},
          "nuid": "5b4aec6e-1d14-4836-afcb-45606d692766",
          "showTitle": false,
          "title": ""
        },
        "id": "ZtJwujbPJR5f",
        "colab": {
          "base_uri": "https://localhost:8080/"
        },
        "outputId": "462d9ed6-1766-4d2d-f402-61c3520e3c78"
      },
      "outputs": [
        {
          "output_type": "stream",
          "name": "stdout",
          "text": [
            "Best layers: [8, 5, 5, 5, 2]\n",
            "Best max iteration: 200\n",
            "Best step size: 0.02\n",
            "Best blockSize: 128\n",
            "Best tol: 0.0001\n"
          ]
        }
      ],
      "source": [
        "mlp = MultilayerPerceptronClassifier(\n",
        "  labelCol=\"Survived\"\n",
        ")\n",
        "\n",
        "test_layer1 = [[8, 5, 2], [8, 5, 5, 2]]\n",
        "test_layer2 = [[8, 5, 5, 2], [8, 5, 5, 5, 2]]\n",
        "test_layer3 = [[8, 5, 5, 5, 2],[8, 6, 5, 4, 3, 2]]\n",
        "\n",
        "test_stepSize1 = [0.001, 0.03]\n",
        "test_stepSize2 = [0.02, 0.04]\n",
        "test_stepSize3 = [0.02, 0.025, 0.03, 0.035, 0.04]\n",
        "\n",
        "mlp_hp_grid = ParamGridBuilder() \\\n",
        "    .addGrid(mlp.layers, test_layer2) \\\n",
        "    .addGrid(mlp.stepSize, test_stepSize2) \\\n",
        "    .addGrid(mlp.maxIter, [100, 150, 200]) \\\n",
        "    .addGrid(mlp.blockSize, [64, 128]) \\\n",
        "    .addGrid(mlp.tol, [1e-4, 1e-6]) \\\n",
        "    .build()\n",
        "\n",
        "pipeline_mlp = Pipeline(stages=[pipeline1, getCrossValidator(mlp, mlp_hp_grid, 3)])\n",
        "\n",
        "model_mlp = pipeline_mlp.fit(train_data)\n",
        "\n",
        "# best model\n",
        "best_perc_model = model_mlp.stages[-1].bestModel\n",
        "\n",
        "print(\"Best layers:\", best_perc_model.getLayers())\n",
        "print(\"Best max iteration:\", best_perc_model.getMaxIter())\n",
        "print(\"Best step size:\", best_perc_model.getStepSize())\n",
        "print(\"Best blockSize:\", best_perc_model.getBlockSize())\n",
        "print(\"Best tol:\", best_perc_model.getTol())"
      ]
    },
    {
      "cell_type": "code",
      "execution_count": null,
      "metadata": {
        "application/vnd.databricks.v1+cell": {
          "cellMetadata": {
            "byteLimit": 2048000,
            "rowLimit": 10000
          },
          "inputWidgets": {},
          "nuid": "3fb996f7-bfc5-4032-973c-920a44f452d2",
          "showTitle": false,
          "title": ""
        },
        "id": "5qyFBIN2JR5f"
      },
      "outputs": [],
      "source": [
        "best_pipeline_perc = Pipeline(stages=[pipeline1, best_perc_model])\n",
        "model5 = best_pipeline_perc.fit(train_data)"
      ]
    },
    {
      "cell_type": "markdown",
      "metadata": {
        "application/vnd.databricks.v1+cell": {
          "cellMetadata": {
            "byteLimit": 2048000,
            "rowLimit": 10000
          },
          "inputWidgets": {},
          "nuid": "31da129e-6270-4dc0-ae88-3a53f1fda1da",
          "showTitle": false,
          "title": ""
        },
        "id": "RdfM0PykJR5g"
      },
      "source": [
        "### 3.4) Models comparison"
      ]
    },
    {
      "cell_type": "code",
      "execution_count": null,
      "metadata": {
        "application/vnd.databricks.v1+cell": {
          "cellMetadata": {
            "byteLimit": 2048000,
            "rowLimit": 10000
          },
          "inputWidgets": {},
          "nuid": "022b9073-8836-424f-acaa-1a675a1e41a7",
          "showTitle": false,
          "title": ""
        },
        "id": "DqGibDf4JR5g",
        "colab": {
          "base_uri": "https://localhost:8080/"
        },
        "outputId": "8be9775c-b808-49df-8efd-937cb7d28640"
      },
      "outputs": [
        {
          "output_type": "stream",
          "name": "stdout",
          "text": [
            "LR\n",
            "AUC (train set):  0.8583866441731108\n",
            "AUC (test set):  0.8582927489177488\n",
            "Accuracy:  0.8258426966292135\n",
            "Precision:  0.8244424786546178\n",
            "-----\n",
            "LSVC\n",
            "AUC (train set):  0.8591716915265002\n",
            "AUC (test set):  0.8532873376623373\n",
            "Accuracy:  0.8033707865168539\n",
            "Precision:  0.80126512729202\n",
            "-----\n",
            "RF\n",
            "AUC (train set):  0.921608010823632\n",
            "AUC (test set):  0.8602543290043294\n",
            "Accuracy:  0.8033707865168539\n",
            "Precision:  0.8010322025697543\n",
            "-----\n",
            "MLP\n",
            "AUC (train set):  0.8699034558786681\n",
            "AUC (test set):  0.8393533549783552\n",
            "Accuracy:  0.797752808988764\n",
            "Precision:  0.7966409176029963\n",
            "-----\n"
          ]
        }
      ],
      "source": [
        "evaluator = BinaryClassificationEvaluator(labelCol=\"Survived\")\n",
        "\n",
        "models = [model1, model2, model4, model5]\n",
        "model_names = [\"LR\", \"LSVC\", \"RF\", \"MLP\"]\n",
        "\n",
        "for i in range(len(models)):\n",
        "    predictionsTrain = models[i].transform(train_data)\n",
        "    auc_train = evaluator.evaluate(predictionsTrain)\n",
        "    print(model_names[i])\n",
        "    print(\"AUC (train set): \", auc_train)\n",
        "\n",
        "    predictionsTest = models[i].transform(test_data)\n",
        "    auc_test = evaluator.evaluate(predictionsTest)\n",
        "    print(\"AUC (test set): \", auc_test)\n",
        "\n",
        "    accuracy = MulticlassClassificationEvaluator(labelCol='Survived', metricName='accuracy').evaluate(predictionsTest)\n",
        "    precision = MulticlassClassificationEvaluator(labelCol='Survived', metricName='weightedPrecision').evaluate(predictionsTest)\n",
        "    print('Accuracy: ', accuracy)\n",
        "    print('Precision: ', precision)\n",
        "    print('-----')"
      ]
    },
    {
      "cell_type": "markdown",
      "metadata": {
        "application/vnd.databricks.v1+cell": {
          "cellMetadata": {
            "byteLimit": 2048000,
            "rowLimit": 10000
          },
          "inputWidgets": {},
          "nuid": "4097146a-bf2b-46c6-8124-d25df8dfc131",
          "showTitle": false,
          "title": ""
        },
        "id": "TOKw6PwWJR5g"
      },
      "source": [
        "Validate this = Random Forest resulted the best model"
      ]
    },
    {
      "cell_type": "markdown",
      "metadata": {
        "application/vnd.databricks.v1+cell": {
          "cellMetadata": {
            "byteLimit": 2048000,
            "rowLimit": 10000
          },
          "inputWidgets": {},
          "nuid": "fe00fd4e-1290-46ce-8909-4cf11ffff37a",
          "showTitle": false,
          "title": ""
        },
        "id": "MTUKvuqYJR5g"
      },
      "source": [
        "### 3.5) Evaluation"
      ]
    },
    {
      "cell_type": "code",
      "execution_count": null,
      "metadata": {
        "application/vnd.databricks.v1+cell": {
          "cellMetadata": {
            "byteLimit": 2048000,
            "rowLimit": 10000
          },
          "inputWidgets": {},
          "nuid": "2f75c6ca-1dfb-433f-b0c0-fca3d52c6464",
          "showTitle": false,
          "title": ""
        },
        "id": "grB7EBC8JR5g"
      },
      "outputs": [],
      "source": [
        "import itertools\n",
        "\n",
        "def plot_confusion_matrix(cm, classes, normalize=False, title='Confusion matrix', cmap=plt.cm.Blues):\n",
        "    \"\"\"\n",
        "    This function prints and plots the confusion matrix.\n",
        "    Normalization can be applied by setting `normalize=True`.\n",
        "    \"\"\"\n",
        "    if normalize:\n",
        "        cm = cm.astype('float') / cm.sum(axis=1)[:, np.newaxis]\n",
        "        print(\"Normalized confusion matrix\")\n",
        "    else:\n",
        "        print('Confusion matrix, without normalization')\n",
        "\n",
        "    print(cm)\n",
        "\n",
        "    plt.imshow(cm, interpolation='nearest', cmap=cmap)\n",
        "    plt.title(title)\n",
        "    plt.colorbar()\n",
        "    tick_marks = np.arange(len(classes))\n",
        "    plt.xticks(tick_marks, classes, rotation=45)\n",
        "    plt.yticks(tick_marks, classes)\n",
        "\n",
        "    fmt = '.2f' if normalize else 'd'\n",
        "    thresh = cm.max() / 2.\n",
        "    for i, j in itertools.product(range(cm.shape[0]), range(cm.shape[1])):\n",
        "        plt.text(j, i, format(cm[i, j], fmt),\n",
        "                 horizontalalignment=\"center\",\n",
        "                 color=\"white\" if cm[i, j] > thresh else \"black\")\n",
        "\n",
        "    plt.tight_layout()\n",
        "    plt.ylabel('True label')\n",
        "    plt.xlabel('Predicted label')"
      ]
    },
    {
      "cell_type": "code",
      "execution_count": null,
      "metadata": {
        "application/vnd.databricks.v1+cell": {
          "cellMetadata": {
            "byteLimit": 2048000,
            "rowLimit": 10000
          },
          "inputWidgets": {},
          "nuid": "d5bd8a9b-b8fa-4697-b2d6-ab810f8cbca9",
          "showTitle": false,
          "title": ""
        },
        "id": "RV_7QMSNJR5g"
      },
      "outputs": [],
      "source": [
        "predictions = model4.transform(test_data) #JM FIX is the random forest still the best model?\n",
        "class_temp = predictions\\\n",
        "    .select(\"Survived\")\\\n",
        "    .groupBy(\"Survived\")\\\n",
        "    .count()\\\n",
        "    .sort('count', ascending=False)\\\n",
        "    .toPandas()\n",
        "\n",
        "class_temp = class_temp[\"Survived\"].values.tolist()"
      ]
    },
    {
      "cell_type": "code",
      "execution_count": null,
      "metadata": {
        "application/vnd.databricks.v1+cell": {
          "cellMetadata": {
            "byteLimit": 2048000,
            "rowLimit": 10000
          },
          "inputWidgets": {},
          "nuid": "721ddb12-0f03-45b8-b2bd-f60756329cd2",
          "showTitle": false,
          "title": ""
        },
        "id": "CzPy8LGYJR5g",
        "colab": {
          "base_uri": "https://localhost:8080/"
        },
        "outputId": "e53632d4-c560-4516-bf94-0e33a0c5b21e"
      },
      "outputs": [
        {
          "output_type": "stream",
          "name": "stdout",
          "text": [
            "root\n",
            " |-- Sex: integer (nullable = false)\n",
            " |-- Pclass: integer (nullable = true)\n",
            " |-- Survived: integer (nullable = true)\n",
            " |-- SibSp: integer (nullable = true)\n",
            " |-- Parch: integer (nullable = true)\n",
            " |-- Fare: float (nullable = true)\n",
            " |-- Cabin: integer (nullable = false)\n",
            " |-- Embarked: integer (nullable = false)\n",
            " |-- AgeCategory: integer (nullable = false)\n",
            " |-- features: vector (nullable = true)\n",
            " |-- rawPrediction: vector (nullable = true)\n",
            " |-- probability: vector (nullable = true)\n",
            " |-- prediction: double (nullable = false)\n",
            "\n"
          ]
        }
      ],
      "source": [
        "predictions.printSchema()"
      ]
    },
    {
      "cell_type": "markdown",
      "source": [
        "Evaluation for predictions"
      ],
      "metadata": {
        "id": "HR6EZeVpIX2F"
      }
    },
    {
      "cell_type": "code",
      "source": [
        "# TODO: add code for evaluation"
      ],
      "metadata": {
        "id": "1inp6BwpIRYB"
      },
      "execution_count": null,
      "outputs": []
    },
    {
      "cell_type": "code",
      "execution_count": null,
      "metadata": {
        "application/vnd.databricks.v1+cell": {
          "cellMetadata": {
            "byteLimit": 2048000,
            "rowLimit": 10000
          },
          "inputWidgets": {},
          "nuid": "8836e378-0d50-4ca2-a407-97dcba2b5958",
          "showTitle": false,
          "title": ""
        },
        "id": "jlDpgUszJR5g",
        "colab": {
          "base_uri": "https://localhost:8080/"
        },
        "outputId": "085e563f-8478-4104-d7cb-d86911d7ef60"
      },
      "outputs": [
        {
          "output_type": "execute_result",
          "data": {
            "text/plain": [
              "array([[99, 13],\n",
              "       [22, 44]])"
            ]
          },
          "metadata": {},
          "execution_count": 212
        }
      ],
      "source": [
        "from sklearn.metrics import confusion_matrix\n",
        "y_true = predictions.select(\"Survived\")\n",
        "y_true = y_true.toPandas()\n",
        "\n",
        "y_pred = predictions.select(\"prediction\")\n",
        "y_pred = y_pred.toPandas()\n",
        "\n",
        "cnf_matrix = confusion_matrix(y_true, y_pred)\n",
        "cnf_matrix"
      ]
    },
    {
      "cell_type": "code",
      "execution_count": null,
      "metadata": {
        "application/vnd.databricks.v1+cell": {
          "cellMetadata": {
            "byteLimit": 2048000,
            "rowLimit": 10000
          },
          "inputWidgets": {},
          "nuid": "e65dbd07-060e-415e-a947-abd043f7f049",
          "showTitle": false,
          "title": ""
        },
        "id": "t6zh8hNqJR5g",
        "colab": {
          "base_uri": "https://localhost:8080/",
          "height": 557
        },
        "outputId": "0e770fd4-0768-4a71-9574-1e3eb7ce8d6e"
      },
      "outputs": [
        {
          "output_type": "stream",
          "name": "stdout",
          "text": [
            "Confusion matrix, without normalization\n",
            "[[99 13]\n",
            " [22 44]]\n"
          ]
        },
        {
          "output_type": "display_data",
          "data": {
            "text/plain": [
              "<Figure size 640x480 with 2 Axes>"
            ],
            "image/png": "[encoded data removed]"
          },
          "metadata": {}
        }
      ],
      "source": [
        "# Plot non-normalized confusion matrix\n",
        "plt.figure()\n",
        "plot_confusion_matrix(\n",
        "    cnf_matrix,\n",
        "    classes=[\"0\", \"1\"],\n",
        "    title='Confusion matrix, without normalization'\n",
        ")\n",
        "\n",
        "plt.show()"
      ]
    },
    {
      "cell_type": "code",
      "execution_count": null,
      "metadata": {
        "application/vnd.databricks.v1+cell": {
          "cellMetadata": {
            "byteLimit": 2048000,
            "rowLimit": 10000
          },
          "inputWidgets": {},
          "nuid": "3b863c85-ee2b-4d65-872f-6e2d082db229",
          "showTitle": false,
          "title": ""
        },
        "id": "YMJD7Y05JR5g",
        "colab": {
          "base_uri": "https://localhost:8080/",
          "height": 557
        },
        "outputId": "0177bced-f5a9-4687-b472-d89f37f463bc"
      },
      "outputs": [
        {
          "output_type": "stream",
          "name": "stdout",
          "text": [
            "Normalized confusion matrix\n",
            "[[0.88392857 0.11607143]\n",
            " [0.33333333 0.66666667]]\n"
          ]
        },
        {
          "output_type": "display_data",
          "data": {
            "text/plain": [
              "<Figure size 640x480 with 2 Axes>"
            ],
            "image/png": "[encoded data removed]"
          },
          "metadata": {}
        }
      ],
      "source": [
        "# Plot normalized confusion matrix\n",
        "plt.figure()\n",
        "plot_confusion_matrix(\n",
        "    cnf_matrix,\n",
        "    classes=[\"0\", \"1\"],\n",
        "    normalize=True,\n",
        "    title='Normalized confusion matrix'\n",
        ")\n",
        "\n",
        "plt.show()"
      ]
    },
    {
      "cell_type": "markdown",
      "metadata": {
        "application/vnd.databricks.v1+cell": {
          "cellMetadata": {
            "byteLimit": 2048000,
            "rowLimit": 10000
          },
          "inputWidgets": {},
          "nuid": "9179630a-f205-427c-8acf-1563e99f841b",
          "showTitle": false,
          "title": ""
        },
        "id": "yR56g13xJR5g"
      },
      "source": [
        "## 4) Conclusion"
      ]
    },
    {
      "cell_type": "code",
      "execution_count": null,
      "metadata": {
        "application/vnd.databricks.v1+cell": {
          "cellMetadata": {
            "byteLimit": 2048000,
            "rowLimit": 10000
          },
          "inputWidgets": {},
          "nuid": "a913f2a9-4bd3-486e-889d-e64203453abc",
          "showTitle": false,
          "title": ""
        },
        "id": "7vNXu7WAJR5h"
      },
      "outputs": [],
      "source": []
    }
  ],
  "metadata": {
    "application/vnd.databricks.v1+notebook": {
      "dashboards": [],
      "language": "python",
      "notebookMetadata": {
        "pythonIndentUnit": 4
      },
      "notebookName": "titanic-v3",
      "widgets": {}
    },
    "language_info": {
      "name": "python"
    },
    "colab": {
      "provenance": [],
      "toc_visible": true
    },
    "kernelspec": {
      "name": "python3",
      "display_name": "Python 3"
    }
  },
  "nbformat": 4,
  "nbformat_minor": 0
}